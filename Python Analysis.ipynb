{
 "cells": [
  {
   "cell_type": "code",
   "execution_count": 1,
   "metadata": {},
   "outputs": [],
   "source": [
    "# Importing useful modules\n",
    "import pandas as pd\n",
    "import numpy as np\n",
    "import matplotlib.pyplot as plt\n",
    "import datetime\n",
    "from sklearn.model_selection import train_test_split\n",
    "import statsmodels.api as sm\n",
    "from sklearn.metrics import mean_squared_error\n",
    "from sklearn.ensemble import RandomForestRegressor\n",
    "import os\n",
    "os.environ['KMP_DUPLICATE_LIB_OK']='True'\n",
    "from  xgboost import XGBRegressor\n",
    "from xgboost import XGBClassifier\n",
    "from sklearn.utils import shuffle\n",
    "from sklearn.linear_model import LogisticRegression\n",
    "from sklearn.metrics import confusion_matrix\n",
    "from sklearn.metrics import roc_auc_score\n",
    "from sklearn.model_selection import cross_val_score\n",
    "from scipy.stats import ttest_ind\n",
    "from scipy.stats import f_oneway\n",
    "from scipy.stats import pearsonr\n",
    "from scipy.stats import norm"
   ]
  },
  {
   "cell_type": "code",
   "execution_count": 2,
   "metadata": {},
   "outputs": [],
   "source": [
    "import warnings\n",
    "warnings.filterwarnings(\"ignore\")"
   ]
  },
  {
   "cell_type": "markdown",
   "metadata": {},
   "source": [
    "# Data Exploration"
   ]
  },
  {
   "cell_type": "code",
   "execution_count": 3,
   "metadata": {},
   "outputs": [
    {
     "data": {
      "text/html": [
       "<div>\n",
       "<style scoped>\n",
       "    .dataframe tbody tr th:only-of-type {\n",
       "        vertical-align: middle;\n",
       "    }\n",
       "\n",
       "    .dataframe tbody tr th {\n",
       "        vertical-align: top;\n",
       "    }\n",
       "\n",
       "    .dataframe thead th {\n",
       "        text-align: right;\n",
       "    }\n",
       "</style>\n",
       "<table border=\"1\" class=\"dataframe\">\n",
       "  <thead>\n",
       "    <tr style=\"text-align: right;\">\n",
       "      <th></th>\n",
       "      <th>Store</th>\n",
       "      <th>Account ID</th>\n",
       "      <th>SquareFeet</th>\n",
       "      <th>Rented?</th>\n",
       "      <th>ReserveDate</th>\n",
       "      <th>Move In Date</th>\n",
       "      <th>Move Out Date</th>\n",
       "      <th>Promotion Name</th>\n",
       "      <th>Source</th>\n",
       "      <th>RentRate</th>\n",
       "      <th>StreetRate</th>\n",
       "      <th>Concession</th>\n",
       "      <th>Region</th>\n",
       "      <th>Previously Used Storage?</th>\n",
       "      <th>Purpose?</th>\n",
       "      <th>Storage Reason</th>\n",
       "    </tr>\n",
       "  </thead>\n",
       "  <tbody>\n",
       "    <tr>\n",
       "      <th>0</th>\n",
       "      <td>3475</td>\n",
       "      <td>105000</td>\n",
       "      <td>0</td>\n",
       "      <td>False</td>\n",
       "      <td>2012-11-11 16:06:13.897</td>\n",
       "      <td>2012-11-17 06:24:08.897</td>\n",
       "      <td>NaT</td>\n",
       "      <td>NaN</td>\n",
       "      <td>Store Reservation</td>\n",
       "      <td>81.0</td>\n",
       "      <td>81.0</td>\n",
       "      <td>0.0</td>\n",
       "      <td>Inland Empire</td>\n",
       "      <td>NaN</td>\n",
       "      <td>NaN</td>\n",
       "      <td>NaN</td>\n",
       "    </tr>\n",
       "    <tr>\n",
       "      <th>1</th>\n",
       "      <td>4115</td>\n",
       "      <td>105001</td>\n",
       "      <td>25</td>\n",
       "      <td>False</td>\n",
       "      <td>2012-11-11 16:06:51.421</td>\n",
       "      <td>2012-11-11 00:00:27.421</td>\n",
       "      <td>NaT</td>\n",
       "      <td>NaN</td>\n",
       "      <td>Store Reservation</td>\n",
       "      <td>84.0</td>\n",
       "      <td>84.0</td>\n",
       "      <td>0.0</td>\n",
       "      <td>Ohio</td>\n",
       "      <td>NaN</td>\n",
       "      <td>NaN</td>\n",
       "      <td>NaN</td>\n",
       "    </tr>\n",
       "    <tr>\n",
       "      <th>2</th>\n",
       "      <td>4615</td>\n",
       "      <td>105002</td>\n",
       "      <td>200</td>\n",
       "      <td>False</td>\n",
       "      <td>2012-11-11 16:36:28.175</td>\n",
       "      <td>2012-11-11 01:07:02.175</td>\n",
       "      <td>NaT</td>\n",
       "      <td>NaN</td>\n",
       "      <td>Store Reservation</td>\n",
       "      <td>246.0</td>\n",
       "      <td>246.0</td>\n",
       "      <td>0.0</td>\n",
       "      <td>Other Southeast</td>\n",
       "      <td>NaN</td>\n",
       "      <td>NaN</td>\n",
       "      <td>NaN</td>\n",
       "    </tr>\n",
       "    <tr>\n",
       "      <th>3</th>\n",
       "      <td>1615</td>\n",
       "      <td>105003</td>\n",
       "      <td>300</td>\n",
       "      <td>True</td>\n",
       "      <td>2012-11-11 17:05:25.627</td>\n",
       "      <td>2012-11-11 17:05:27.627</td>\n",
       "      <td>NaT</td>\n",
       "      <td>NaN</td>\n",
       "      <td>Web Reservation</td>\n",
       "      <td>224.0</td>\n",
       "      <td>224.0</td>\n",
       "      <td>0.0</td>\n",
       "      <td>Inland Empire</td>\n",
       "      <td>No</td>\n",
       "      <td>Other</td>\n",
       "      <td>Other</td>\n",
       "    </tr>\n",
       "    <tr>\n",
       "      <th>4</th>\n",
       "      <td>3355</td>\n",
       "      <td>105004</td>\n",
       "      <td>50</td>\n",
       "      <td>False</td>\n",
       "      <td>2012-11-11 17:08:41.900</td>\n",
       "      <td>2012-11-13 03:37:55.900</td>\n",
       "      <td>NaT</td>\n",
       "      <td>NaN</td>\n",
       "      <td>Web Reservation</td>\n",
       "      <td>64.0</td>\n",
       "      <td>64.0</td>\n",
       "      <td>0.0</td>\n",
       "      <td>Inland Empire</td>\n",
       "      <td>NaN</td>\n",
       "      <td>NaN</td>\n",
       "      <td>NaN</td>\n",
       "    </tr>\n",
       "  </tbody>\n",
       "</table>\n",
       "</div>"
      ],
      "text/plain": [
       "   Store  Account ID  SquareFeet  Rented?             ReserveDate  \\\n",
       "0   3475      105000           0    False 2012-11-11 16:06:13.897   \n",
       "1   4115      105001          25    False 2012-11-11 16:06:51.421   \n",
       "2   4615      105002         200    False 2012-11-11 16:36:28.175   \n",
       "3   1615      105003         300     True 2012-11-11 17:05:25.627   \n",
       "4   3355      105004          50    False 2012-11-11 17:08:41.900   \n",
       "\n",
       "             Move In Date Move Out Date Promotion Name             Source  \\\n",
       "0 2012-11-17 06:24:08.897           NaT            NaN  Store Reservation   \n",
       "1 2012-11-11 00:00:27.421           NaT            NaN  Store Reservation   \n",
       "2 2012-11-11 01:07:02.175           NaT            NaN  Store Reservation   \n",
       "3 2012-11-11 17:05:27.627           NaT            NaN    Web Reservation   \n",
       "4 2012-11-13 03:37:55.900           NaT            NaN    Web Reservation   \n",
       "\n",
       "   RentRate  StreetRate  Concession           Region Previously Used Storage?  \\\n",
       "0      81.0        81.0         0.0    Inland Empire                      NaN   \n",
       "1      84.0        84.0         0.0             Ohio                      NaN   \n",
       "2     246.0       246.0         0.0  Other Southeast                      NaN   \n",
       "3     224.0       224.0         0.0    Inland Empire                       No   \n",
       "4      64.0        64.0         0.0    Inland Empire                      NaN   \n",
       "\n",
       "  Purpose? Storage Reason  \n",
       "0      NaN            NaN  \n",
       "1      NaN            NaN  \n",
       "2      NaN            NaN  \n",
       "3    Other          Other  \n",
       "4      NaN            NaN  "
      ]
     },
     "execution_count": 3,
     "metadata": {},
     "output_type": "execute_result"
    }
   ],
   "source": [
    "# Reading dataset\n",
    "dataset = pd.read_excel(\"Dataset for Data Science Business Case.xlsx\", sheet_name=1)\n",
    "dataset.head()"
   ]
  },
  {
   "cell_type": "code",
   "execution_count": 4,
   "metadata": {},
   "outputs": [
    {
     "data": {
      "text/plain": [
       "(58664, 16)"
      ]
     },
     "execution_count": 4,
     "metadata": {},
     "output_type": "execute_result"
    }
   ],
   "source": [
    "dataset.shape"
   ]
  },
  {
   "cell_type": "code",
   "execution_count": 5,
   "metadata": {},
   "outputs": [
    {
     "data": {
      "text/plain": [
       "58664"
      ]
     },
     "execution_count": 5,
     "metadata": {},
     "output_type": "execute_result"
    }
   ],
   "source": [
    "len(dataset['Account ID'].value_counts())"
   ]
  },
  {
   "cell_type": "markdown",
   "metadata": {},
   "source": [
    "Account ID are unique"
   ]
  },
  {
   "cell_type": "code",
   "execution_count": 6,
   "metadata": {},
   "outputs": [
    {
     "data": {
      "text/plain": [
       "345"
      ]
     },
     "execution_count": 6,
     "metadata": {},
     "output_type": "execute_result"
    }
   ],
   "source": [
    "len(dataset['Store'].value_counts())"
   ]
  },
  {
   "cell_type": "markdown",
   "metadata": {},
   "source": [
    "Store ID are repeating"
   ]
  },
  {
   "cell_type": "code",
   "execution_count": 7,
   "metadata": {},
   "outputs": [
    {
     "data": {
      "text/plain": [
       "count    58664.000000\n",
       "mean        97.564997\n",
       "std         79.105366\n",
       "min          0.000000\n",
       "25%         50.000000\n",
       "50%         75.000000\n",
       "75%        150.000000\n",
       "max       1300.000000\n",
       "Name: SquareFeet, dtype: float64"
      ]
     },
     "execution_count": 7,
     "metadata": {},
     "output_type": "execute_result"
    }
   ],
   "source": [
    "# Checking outliers in SquareFeet\n",
    "dataset['SquareFeet'].describe()"
   ]
  },
  {
   "cell_type": "code",
   "execution_count": 8,
   "metadata": {},
   "outputs": [
    {
     "data": {
      "text/plain": [
       "<matplotlib.axes._subplots.AxesSubplot at 0x1bc5376b358>"
      ]
     },
     "execution_count": 8,
     "metadata": {},
     "output_type": "execute_result"
    },
    {
     "data": {
      "image/png": "[encoded data removed]",
      "text/plain": [
       "<Figure size 432x288 with 1 Axes>"
      ]
     },
     "metadata": {},
     "output_type": "display_data"
    }
   ],
   "source": [
    "dataset['SquareFeet'][dataset['SquareFeet']>600].hist()"
   ]
  },
  {
   "cell_type": "markdown",
   "metadata": {},
   "source": [
    "Enough values are present above 600 so looks genuine data, not removing any rows"
   ]
  },
  {
   "cell_type": "code",
   "execution_count": 9,
   "metadata": {},
   "outputs": [
    {
     "data": {
      "text/plain": [
       "True     0.625494\n",
       "False    0.374506\n",
       "Name: Rented?, dtype: float64"
      ]
     },
     "execution_count": 9,
     "metadata": {},
     "output_type": "execute_result"
    }
   ],
   "source": [
    "dataset['Rented?'].value_counts()/dataset.shape[0]"
   ]
  },
  {
   "cell_type": "code",
   "execution_count": 10,
   "metadata": {},
   "outputs": [
    {
     "data": {
      "text/plain": [
       "<matplotlib.axes._subplots.AxesSubplot at 0x1bc55314e10>"
      ]
     },
     "execution_count": 10,
     "metadata": {},
     "output_type": "execute_result"
    },
    {
     "data": {
      "image/png": "[encoded data removed]",
      "text/plain": [
       "<Figure size 432x288 with 1 Axes>"
      ]
     },
     "metadata": {},
     "output_type": "display_data"
    }
   ],
   "source": [
    "dataset['Move In Date'].plot()"
   ]
  },
  {
   "cell_type": "markdown",
   "metadata": {},
   "source": [
    "Some Move In Date are way too old, looks data entry error"
   ]
  },
  {
   "cell_type": "code",
   "execution_count": 11,
   "metadata": {},
   "outputs": [
    {
     "data": {
      "text/plain": [
       "dtype('<M8[ns]')"
      ]
     },
     "execution_count": 11,
     "metadata": {},
     "output_type": "execute_result"
    }
   ],
   "source": [
    "dataset['Move In Date'].dtype"
   ]
  },
  {
   "cell_type": "code",
   "execution_count": 12,
   "metadata": {},
   "outputs": [],
   "source": [
    "# Changing data type\n",
    "dataset['Move In Date'] = pd.to_datetime(dataset['Move In Date'])\n",
    "dataset['Move Out Date'] = pd.to_datetime(dataset['Move Out Date'])"
   ]
  },
  {
   "cell_type": "code",
   "execution_count": 13,
   "metadata": {},
   "outputs": [
    {
     "data": {
      "text/plain": [
       "<matplotlib.axes._subplots.AxesSubplot at 0x1bc54e4e668>"
      ]
     },
     "execution_count": 13,
     "metadata": {},
     "output_type": "execute_result"
    },
    {
     "data": {
      "image/png": "[encoded data removed]",
      "text/plain": [
       "<Figure size 432x288 with 1 Axes>"
      ]
     },
     "metadata": {},
     "output_type": "display_data"
    }
   ],
   "source": [
    "dataset['Move Out Date'].plot()"
   ]
  },
  {
   "cell_type": "markdown",
   "metadata": {},
   "source": [
    "Some Move Out Date are way in future, again looks data entry error"
   ]
  },
  {
   "cell_type": "code",
   "execution_count": 14,
   "metadata": {},
   "outputs": [
    {
     "data": {
      "text/plain": [
       "count                   15325\n",
       "unique                  15319\n",
       "top       2013-05-11 11:04:02\n",
       "freq                        2\n",
       "first     2012-11-12 22:04:39\n",
       "last      2071-05-13 12:46:26\n",
       "Name: Move Out Date, dtype: object"
      ]
     },
     "execution_count": 14,
     "metadata": {},
     "output_type": "execute_result"
    }
   ],
   "source": [
    "dataset['Move Out Date'].describe()"
   ]
  },
  {
   "cell_type": "code",
   "execution_count": 15,
   "metadata": {},
   "outputs": [
    {
     "data": {
      "text/plain": [
       "<bound method Series.any of Store                           0\n",
       "Account ID                      0\n",
       "SquareFeet                      0\n",
       "Rented?                         0\n",
       "ReserveDate                     0\n",
       "Move In Date                    0\n",
       "Move Out Date               43339\n",
       "Promotion Name              19790\n",
       "Source                          0\n",
       "RentRate                        0\n",
       "StreetRate                      0\n",
       "Concession                      0\n",
       "Region                          0\n",
       "Previously Used Storage?    21970\n",
       "Purpose?                    22005\n",
       "Storage Reason              22005\n",
       "dtype: int64>"
      ]
     },
     "execution_count": 15,
     "metadata": {},
     "output_type": "execute_result"
    }
   ],
   "source": [
    "# Checking null values\n",
    "dataset.isnull().sum().any"
   ]
  },
  {
   "cell_type": "code",
   "execution_count": 16,
   "metadata": {},
   "outputs": [],
   "source": [
    "# Removing rows with wrong Move out date\n",
    "dataset_ = dataset[(pd.isnull(dataset['Move Out Date'])) | (dataset['Move Out Date']< pd.datetime(2014, 11, 6))]"
   ]
  },
  {
   "cell_type": "code",
   "execution_count": 17,
   "metadata": {},
   "outputs": [
    {
     "data": {
      "text/plain": [
       "(58660, 16)"
      ]
     },
     "execution_count": 17,
     "metadata": {},
     "output_type": "execute_result"
    }
   ],
   "source": [
    "dataset_.shape"
   ]
  },
  {
   "cell_type": "code",
   "execution_count": 18,
   "metadata": {},
   "outputs": [
    {
     "data": {
      "text/plain": [
       "count                          58660\n",
       "unique                         58613\n",
       "top              2013-04-19 20:32:36\n",
       "freq                               3\n",
       "first     1899-10-11 00:30:17.811000\n",
       "last             2014-06-11 18:43:47\n",
       "Name: Move In Date, dtype: object"
      ]
     },
     "execution_count": 18,
     "metadata": {},
     "output_type": "execute_result"
    }
   ],
   "source": [
    "dataset_['Move In Date'].describe()"
   ]
  },
  {
   "cell_type": "code",
   "execution_count": 19,
   "metadata": {},
   "outputs": [],
   "source": [
    "# Removing rows with wrong input dates\n",
    "dataset_date_filtered = dataset_[dataset_['Move In Date'] > pd.datetime(2012,1,1)]"
   ]
  },
  {
   "cell_type": "code",
   "execution_count": 20,
   "metadata": {},
   "outputs": [
    {
     "data": {
      "text/plain": [
       "(58658, 16)"
      ]
     },
     "execution_count": 20,
     "metadata": {},
     "output_type": "execute_result"
    }
   ],
   "source": [
    "dataset_date_filtered.shape"
   ]
  },
  {
   "cell_type": "markdown",
   "metadata": {},
   "source": [
    "Total 6 rows are lost in correcting date"
   ]
  },
  {
   "cell_type": "code",
   "execution_count": 21,
   "metadata": {},
   "outputs": [
    {
     "data": {
      "text/plain": [
       "<matplotlib.axes._subplots.AxesSubplot at 0x1bc549960b8>"
      ]
     },
     "execution_count": 21,
     "metadata": {},
     "output_type": "execute_result"
    },
    {
     "data": {
      "image/png": "[encoded data removed]",
      "text/plain": [
       "<Figure size 432x288 with 1 Axes>"
      ]
     },
     "metadata": {},
     "output_type": "display_data"
    }
   ],
   "source": [
    "dataset_date_filtered['Move In Date'].plot()"
   ]
  },
  {
   "cell_type": "code",
   "execution_count": 22,
   "metadata": {},
   "outputs": [
    {
     "data": {
      "text/plain": [
       "count                          15321\n",
       "unique                         15315\n",
       "top       2013-07-11 12:28:54.500000\n",
       "freq                               2\n",
       "first            2012-11-12 22:04:39\n",
       "last             2014-06-11 10:24:59\n",
       "Name: Move Out Date, dtype: object"
      ]
     },
     "execution_count": 22,
     "metadata": {},
     "output_type": "execute_result"
    }
   ],
   "source": [
    "dataset_date_filtered['Move Out Date'].describe()"
   ]
  },
  {
   "cell_type": "markdown",
   "metadata": {},
   "source": [
    "Now date values are within the range"
   ]
  },
  {
   "cell_type": "code",
   "execution_count": 23,
   "metadata": {},
   "outputs": [
    {
     "data": {
      "text/html": [
       "<div>\n",
       "<style scoped>\n",
       "    .dataframe tbody tr th:only-of-type {\n",
       "        vertical-align: middle;\n",
       "    }\n",
       "\n",
       "    .dataframe tbody tr th {\n",
       "        vertical-align: top;\n",
       "    }\n",
       "\n",
       "    .dataframe thead th {\n",
       "        text-align: right;\n",
       "    }\n",
       "</style>\n",
       "<table border=\"1\" class=\"dataframe\">\n",
       "  <thead>\n",
       "    <tr style=\"text-align: right;\">\n",
       "      <th></th>\n",
       "      <th>Store</th>\n",
       "      <th>Account ID</th>\n",
       "      <th>SquareFeet</th>\n",
       "      <th>Rented?</th>\n",
       "      <th>ReserveDate</th>\n",
       "      <th>Move In Date</th>\n",
       "      <th>Move Out Date</th>\n",
       "      <th>Promotion Name</th>\n",
       "      <th>Source</th>\n",
       "      <th>RentRate</th>\n",
       "      <th>StreetRate</th>\n",
       "      <th>Concession</th>\n",
       "      <th>Region</th>\n",
       "      <th>Previously Used Storage?</th>\n",
       "      <th>Purpose?</th>\n",
       "      <th>Storage Reason</th>\n",
       "    </tr>\n",
       "  </thead>\n",
       "  <tbody>\n",
       "  </tbody>\n",
       "</table>\n",
       "</div>"
      ],
      "text/plain": [
       "Empty DataFrame\n",
       "Columns: [Store, Account ID, SquareFeet, Rented?, ReserveDate, Move In Date, Move Out Date, Promotion Name, Source, RentRate, StreetRate, Concession, Region, Previously Used Storage?, Purpose?, Storage Reason]\n",
       "Index: []"
      ]
     },
     "execution_count": 23,
     "metadata": {},
     "output_type": "execute_result"
    }
   ],
   "source": [
    "\n",
    "dataset_date_filtered[dataset_date_filtered['Move Out Date'] <dataset_date_filtered['Move In Date']]"
   ]
  },
  {
   "cell_type": "markdown",
   "metadata": {},
   "source": [
    "On checking, if there are any rows with Move Out date earlier than Move In date, No such rows are found."
   ]
  },
  {
   "cell_type": "code",
   "execution_count": 24,
   "metadata": {},
   "outputs": [
    {
     "data": {
      "text/plain": [
       "First Month Free         33292\n",
       "First Month Half Off      4268\n",
       "Three Months Half off      670\n",
       "Two Months Half Off        329\n",
       "Two Months Free            312\n",
       "Name: Promotion Name, dtype: int64"
      ]
     },
     "execution_count": 24,
     "metadata": {},
     "output_type": "execute_result"
    }
   ],
   "source": [
    "dataset_date_filtered['Promotion Name'].value_counts()"
   ]
  },
  {
   "cell_type": "code",
   "execution_count": 25,
   "metadata": {},
   "outputs": [
    {
     "data": {
      "text/plain": [
       "array(['Inland Empire', 'Ohio', 'Other Southeast', 'Boston',\n",
       "       'Southern California', 'Colorado / Utah', 'New York / Northern NJ',\n",
       "       'Florida Markets - Other', 'Connecticut', 'Other West',\n",
       "       'Other Northeast', 'Philadelphia / Southern NJ', 'Baltimore / DC',\n",
       "       'Other Midwest', 'Arizona / Las Vegas', 'Atlanta',\n",
       "       'Miami / Ft. Lauderdale', 'Texas Markets - Major', 'Tennessee',\n",
       "       'Chicago'], dtype=object)"
      ]
     },
     "execution_count": 25,
     "metadata": {},
     "output_type": "execute_result"
    }
   ],
   "source": [
    "dataset_date_filtered['Region'].unique()"
   ]
  },
  {
   "cell_type": "markdown",
   "metadata": {},
   "source": [
    "Region data is well defined, there are no duplicates due to spelling mistake."
   ]
  },
  {
   "cell_type": "markdown",
   "metadata": {},
   "source": [
    "# Predicting length of stay"
   ]
  },
  {
   "cell_type": "markdown",
   "metadata": {},
   "source": [
    "train data is observations for which Move Out date is known. "
   ]
  },
  {
   "cell_type": "code",
   "execution_count": 26,
   "metadata": {},
   "outputs": [
    {
     "data": {
      "text/plain": [
       "(36688, 16)"
      ]
     },
     "execution_count": 26,
     "metadata": {},
     "output_type": "execute_result"
    }
   ],
   "source": [
    "dataset_Rented_True = dataset_date_filtered[dataset_date_filtered['Rented?']==True]\n",
    "dataset_Rented_True.shape"
   ]
  },
  {
   "cell_type": "markdown",
   "metadata": {},
   "source": [
    "Data which did not result in Rental is removed"
   ]
  },
  {
   "cell_type": "code",
   "execution_count": 36,
   "metadata": {},
   "outputs": [],
   "source": [
    "dataset_Rented_True_known_stayknown = dataset_Rented_True[~pd.isnull(dataset_Rented_True['Move Out Date'])]"
   ]
  },
  {
   "cell_type": "markdown",
   "metadata": {},
   "source": [
    "dataset_Rented_True_known_stayknown is training data to train length of stay against other variables"
   ]
  },
  {
   "cell_type": "code",
   "execution_count": 37,
   "metadata": {},
   "outputs": [],
   "source": [
    "dataset_Rented_True_known_stayunknown = dataset_Rented_True[pd.isnull(dataset_Rented_True['Move Out Date'])]"
   ]
  },
  {
   "cell_type": "markdown",
   "metadata": {},
   "source": [
    "dataset_Rented_True_known_stayunknown is test data for which length of stay has to be calculated "
   ]
  },
  {
   "cell_type": "code",
   "execution_count": 38,
   "metadata": {},
   "outputs": [
    {
     "data": {
      "text/plain": [
       "((15321, 16), (21367, 16))"
      ]
     },
     "execution_count": 38,
     "metadata": {},
     "output_type": "execute_result"
    }
   ],
   "source": [
    "dataset_Rented_True_known_stayknown.shape, dataset_Rented_True_known_stayunknown.shape"
   ]
  },
  {
   "cell_type": "markdown",
   "metadata": {},
   "source": [
    "As train size is relatively smaller than test size, using very complicated model will tend to 'overfit'."
   ]
  },
  {
   "cell_type": "code",
   "execution_count": 40,
   "metadata": {},
   "outputs": [],
   "source": [
    "# Calculating length of stay and converting into Month\n",
    "dataset_Rented_True_known_stayknown['Length_of_stay'] = dataset_Rented_True_known_stayknown.apply(lambda x:  int(np.ceil((x['Move Out Date'] - x['Move In Date'])/np.timedelta64(1, 'M'))), axis=1)"
   ]
  },
  {
   "cell_type": "code",
   "execution_count": 41,
   "metadata": {},
   "outputs": [
    {
     "data": {
      "text/html": [
       "<div>\n",
       "<style scoped>\n",
       "    .dataframe tbody tr th:only-of-type {\n",
       "        vertical-align: middle;\n",
       "    }\n",
       "\n",
       "    .dataframe tbody tr th {\n",
       "        vertical-align: top;\n",
       "    }\n",
       "\n",
       "    .dataframe thead th {\n",
       "        text-align: right;\n",
       "    }\n",
       "</style>\n",
       "<table border=\"1\" class=\"dataframe\">\n",
       "  <thead>\n",
       "    <tr style=\"text-align: right;\">\n",
       "      <th></th>\n",
       "      <th>Store</th>\n",
       "      <th>Account ID</th>\n",
       "      <th>SquareFeet</th>\n",
       "      <th>Rented?</th>\n",
       "      <th>ReserveDate</th>\n",
       "      <th>Move In Date</th>\n",
       "      <th>Move Out Date</th>\n",
       "      <th>Promotion Name</th>\n",
       "      <th>Source</th>\n",
       "      <th>RentRate</th>\n",
       "      <th>StreetRate</th>\n",
       "      <th>Concession</th>\n",
       "      <th>Region</th>\n",
       "      <th>Previously Used Storage?</th>\n",
       "      <th>Purpose?</th>\n",
       "      <th>Storage Reason</th>\n",
       "      <th>Length_of_stay</th>\n",
       "    </tr>\n",
       "  </thead>\n",
       "  <tbody>\n",
       "    <tr>\n",
       "      <th>8</th>\n",
       "      <td>3110</td>\n",
       "      <td>105008</td>\n",
       "      <td>50</td>\n",
       "      <td>True</td>\n",
       "      <td>2012-11-11 18:04:13.000</td>\n",
       "      <td>2012-11-11 23:55:14.000</td>\n",
       "      <td>2013-02-07 17:32:44.000</td>\n",
       "      <td>First Month Half Off</td>\n",
       "      <td>Sales Center Reservation</td>\n",
       "      <td>53.1</td>\n",
       "      <td>59.0</td>\n",
       "      <td>-0.1</td>\n",
       "      <td>Colorado / Utah</td>\n",
       "      <td>No</td>\n",
       "      <td>Other</td>\n",
       "      <td>Other</td>\n",
       "      <td>3</td>\n",
       "    </tr>\n",
       "    <tr>\n",
       "      <th>10</th>\n",
       "      <td>3325</td>\n",
       "      <td>105010</td>\n",
       "      <td>50</td>\n",
       "      <td>True</td>\n",
       "      <td>2012-11-11 18:16:15.434</td>\n",
       "      <td>2012-11-17 18:17:43.434</td>\n",
       "      <td>2013-10-20 20:30:31.109</td>\n",
       "      <td>NaN</td>\n",
       "      <td>Sales Center Reservation</td>\n",
       "      <td>115.0</td>\n",
       "      <td>115.0</td>\n",
       "      <td>0.0</td>\n",
       "      <td>Florida Markets - Other</td>\n",
       "      <td>Yes</td>\n",
       "      <td>Other</td>\n",
       "      <td>Other</td>\n",
       "      <td>12</td>\n",
       "    </tr>\n",
       "    <tr>\n",
       "      <th>17</th>\n",
       "      <td>2570</td>\n",
       "      <td>105017</td>\n",
       "      <td>100</td>\n",
       "      <td>True</td>\n",
       "      <td>2012-11-11 19:37:59.000</td>\n",
       "      <td>2012-12-09 03:16:10.000</td>\n",
       "      <td>2013-05-17 17:02:35.500</td>\n",
       "      <td>First Month Free</td>\n",
       "      <td>Sales Center Reservation</td>\n",
       "      <td>56.7</td>\n",
       "      <td>63.0</td>\n",
       "      <td>-0.1</td>\n",
       "      <td>Other Southeast</td>\n",
       "      <td>No</td>\n",
       "      <td>Organizing / Creating More Living Space</td>\n",
       "      <td>Files / Office Items</td>\n",
       "      <td>6</td>\n",
       "    </tr>\n",
       "    <tr>\n",
       "      <th>27</th>\n",
       "      <td>1520</td>\n",
       "      <td>105027</td>\n",
       "      <td>0</td>\n",
       "      <td>True</td>\n",
       "      <td>2012-11-11 20:44:19.856</td>\n",
       "      <td>2012-11-13 00:30:45.856</td>\n",
       "      <td>2013-04-15 19:15:03.214</td>\n",
       "      <td>NaN</td>\n",
       "      <td>Web Reservation</td>\n",
       "      <td>94.0</td>\n",
       "      <td>94.0</td>\n",
       "      <td>0.0</td>\n",
       "      <td>New York / Northern NJ</td>\n",
       "      <td>No</td>\n",
       "      <td>Other</td>\n",
       "      <td>Files / Office Items</td>\n",
       "      <td>6</td>\n",
       "    </tr>\n",
       "    <tr>\n",
       "      <th>39</th>\n",
       "      <td>3090</td>\n",
       "      <td>105039</td>\n",
       "      <td>50</td>\n",
       "      <td>True</td>\n",
       "      <td>2012-11-11 22:04:15.000</td>\n",
       "      <td>2012-11-11 22:58:30.000</td>\n",
       "      <td>2012-12-11 09:01:07.500</td>\n",
       "      <td>First Month Free</td>\n",
       "      <td>Store Reservation</td>\n",
       "      <td>35.1</td>\n",
       "      <td>39.0</td>\n",
       "      <td>-0.1</td>\n",
       "      <td>Colorado / Utah</td>\n",
       "      <td>No</td>\n",
       "      <td>Organizing / Creating More Living Space</td>\n",
       "      <td>Files / Office Items</td>\n",
       "      <td>1</td>\n",
       "    </tr>\n",
       "  </tbody>\n",
       "</table>\n",
       "</div>"
      ],
      "text/plain": [
       "    Store  Account ID  SquareFeet  Rented?             ReserveDate  \\\n",
       "8    3110      105008          50     True 2012-11-11 18:04:13.000   \n",
       "10   3325      105010          50     True 2012-11-11 18:16:15.434   \n",
       "17   2570      105017         100     True 2012-11-11 19:37:59.000   \n",
       "27   1520      105027           0     True 2012-11-11 20:44:19.856   \n",
       "39   3090      105039          50     True 2012-11-11 22:04:15.000   \n",
       "\n",
       "              Move In Date           Move Out Date        Promotion Name  \\\n",
       "8  2012-11-11 23:55:14.000 2013-02-07 17:32:44.000  First Month Half Off   \n",
       "10 2012-11-17 18:17:43.434 2013-10-20 20:30:31.109                   NaN   \n",
       "17 2012-12-09 03:16:10.000 2013-05-17 17:02:35.500      First Month Free   \n",
       "27 2012-11-13 00:30:45.856 2013-04-15 19:15:03.214                   NaN   \n",
       "39 2012-11-11 22:58:30.000 2012-12-11 09:01:07.500      First Month Free   \n",
       "\n",
       "                      Source  RentRate  StreetRate  Concession  \\\n",
       "8   Sales Center Reservation      53.1        59.0        -0.1   \n",
       "10  Sales Center Reservation     115.0       115.0         0.0   \n",
       "17  Sales Center Reservation      56.7        63.0        -0.1   \n",
       "27           Web Reservation      94.0        94.0         0.0   \n",
       "39         Store Reservation      35.1        39.0        -0.1   \n",
       "\n",
       "                     Region Previously Used Storage?  \\\n",
       "8           Colorado / Utah                       No   \n",
       "10  Florida Markets - Other                      Yes   \n",
       "17          Other Southeast                       No   \n",
       "27   New York / Northern NJ                       No   \n",
       "39          Colorado / Utah                       No   \n",
       "\n",
       "                                   Purpose?        Storage Reason  \\\n",
       "8                                     Other                 Other   \n",
       "10                                    Other                 Other   \n",
       "17  Organizing / Creating More Living Space  Files / Office Items   \n",
       "27                                    Other  Files / Office Items   \n",
       "39  Organizing / Creating More Living Space  Files / Office Items   \n",
       "\n",
       "    Length_of_stay  \n",
       "8                3  \n",
       "10              12  \n",
       "17               6  \n",
       "27               6  \n",
       "39               1  "
      ]
     },
     "execution_count": 41,
     "metadata": {},
     "output_type": "execute_result"
    }
   ],
   "source": [
    "dataset_Rented_True_known_stayknown.head()"
   ]
  },
  {
   "cell_type": "code",
   "execution_count": 42,
   "metadata": {},
   "outputs": [
    {
     "data": {
      "text/plain": [
       "count    15321.000000\n",
       "mean         4.646825\n",
       "std          2.954529\n",
       "min          1.000000\n",
       "25%          2.000000\n",
       "50%          4.000000\n",
       "75%          6.000000\n",
       "max         15.000000\n",
       "Name: Length_of_stay, dtype: float64"
      ]
     },
     "execution_count": 42,
     "metadata": {},
     "output_type": "execute_result"
    }
   ],
   "source": [
    "dataset_Rented_True_known_stayknown['Length_of_stay'].describe()"
   ]
  },
  {
   "cell_type": "markdown",
   "metadata": {},
   "source": [
    "Maximum value of length of stay is 15 only, so model will not predict values above 15 almost most of the time. So these predicted\n",
    "values for test data can be used as 'incremental stay'. "
   ]
  },
  {
   "cell_type": "code",
   "execution_count": 43,
   "metadata": {},
   "outputs": [],
   "source": [
    "Category_Variables = ['Promotion Name','Source','Region','Previously Used Storage?','Purpose?','Storage Reason']"
   ]
  },
  {
   "cell_type": "code",
   "execution_count": 44,
   "metadata": {},
   "outputs": [
    {
     "name": "stdout",
     "output_type": "stream",
     "text": [
      "set()\n",
      "set()\n",
      "set()\n",
      "set()\n",
      "set()\n",
      "set()\n"
     ]
    }
   ],
   "source": [
    "# Checking data leakage, if there is any category which is present in test but not in train data\n",
    "for cat_var in Category_Variables:\n",
    "    print(set(dataset_Rented_True_known_stayunknown[~pd.isnull(dataset_Rented_True_known_stayunknown[cat_var])][cat_var].unique())-set(dataset_Rented_True_known_stayknown[~pd.isnull(dataset_Rented_True_known_stayknown[cat_var])][cat_var].unique()))"
   ]
  },
  {
   "cell_type": "markdown",
   "metadata": {},
   "source": [
    "There are no new categories in test"
   ]
  },
  {
   "cell_type": "code",
   "execution_count": 45,
   "metadata": {},
   "outputs": [],
   "source": [
    "Features= dataset_Rented_True_known_stayknown[['SquareFeet','Promotion Name','Source','RentRate','Concession','Region','Previously Used Storage?','Purpose?','Storage Reason']]"
   ]
  },
  {
   "cell_type": "code",
   "execution_count": 46,
   "metadata": {},
   "outputs": [
    {
     "data": {
      "text/html": [
       "<div>\n",
       "<style scoped>\n",
       "    .dataframe tbody tr th:only-of-type {\n",
       "        vertical-align: middle;\n",
       "    }\n",
       "\n",
       "    .dataframe tbody tr th {\n",
       "        vertical-align: top;\n",
       "    }\n",
       "\n",
       "    .dataframe thead th {\n",
       "        text-align: right;\n",
       "    }\n",
       "</style>\n",
       "<table border=\"1\" class=\"dataframe\">\n",
       "  <thead>\n",
       "    <tr style=\"text-align: right;\">\n",
       "      <th></th>\n",
       "      <th>SquareFeet</th>\n",
       "      <th>Promotion Name</th>\n",
       "      <th>Source</th>\n",
       "      <th>RentRate</th>\n",
       "      <th>Concession</th>\n",
       "      <th>Region</th>\n",
       "      <th>Previously Used Storage?</th>\n",
       "      <th>Purpose?</th>\n",
       "      <th>Storage Reason</th>\n",
       "    </tr>\n",
       "  </thead>\n",
       "  <tbody>\n",
       "    <tr>\n",
       "      <th>8</th>\n",
       "      <td>50</td>\n",
       "      <td>First Month Half Off</td>\n",
       "      <td>Sales Center Reservation</td>\n",
       "      <td>53.1</td>\n",
       "      <td>-0.1</td>\n",
       "      <td>Colorado / Utah</td>\n",
       "      <td>No</td>\n",
       "      <td>Other</td>\n",
       "      <td>Other</td>\n",
       "    </tr>\n",
       "    <tr>\n",
       "      <th>10</th>\n",
       "      <td>50</td>\n",
       "      <td>NaN</td>\n",
       "      <td>Sales Center Reservation</td>\n",
       "      <td>115.0</td>\n",
       "      <td>0.0</td>\n",
       "      <td>Florida Markets - Other</td>\n",
       "      <td>Yes</td>\n",
       "      <td>Other</td>\n",
       "      <td>Other</td>\n",
       "    </tr>\n",
       "    <tr>\n",
       "      <th>17</th>\n",
       "      <td>100</td>\n",
       "      <td>First Month Free</td>\n",
       "      <td>Sales Center Reservation</td>\n",
       "      <td>56.7</td>\n",
       "      <td>-0.1</td>\n",
       "      <td>Other Southeast</td>\n",
       "      <td>No</td>\n",
       "      <td>Organizing / Creating More Living Space</td>\n",
       "      <td>Files / Office Items</td>\n",
       "    </tr>\n",
       "    <tr>\n",
       "      <th>27</th>\n",
       "      <td>0</td>\n",
       "      <td>NaN</td>\n",
       "      <td>Web Reservation</td>\n",
       "      <td>94.0</td>\n",
       "      <td>0.0</td>\n",
       "      <td>New York / Northern NJ</td>\n",
       "      <td>No</td>\n",
       "      <td>Other</td>\n",
       "      <td>Files / Office Items</td>\n",
       "    </tr>\n",
       "    <tr>\n",
       "      <th>39</th>\n",
       "      <td>50</td>\n",
       "      <td>First Month Free</td>\n",
       "      <td>Store Reservation</td>\n",
       "      <td>35.1</td>\n",
       "      <td>-0.1</td>\n",
       "      <td>Colorado / Utah</td>\n",
       "      <td>No</td>\n",
       "      <td>Organizing / Creating More Living Space</td>\n",
       "      <td>Files / Office Items</td>\n",
       "    </tr>\n",
       "  </tbody>\n",
       "</table>\n",
       "</div>"
      ],
      "text/plain": [
       "    SquareFeet        Promotion Name                    Source  RentRate  \\\n",
       "8           50  First Month Half Off  Sales Center Reservation      53.1   \n",
       "10          50                   NaN  Sales Center Reservation     115.0   \n",
       "17         100      First Month Free  Sales Center Reservation      56.7   \n",
       "27           0                   NaN           Web Reservation      94.0   \n",
       "39          50      First Month Free         Store Reservation      35.1   \n",
       "\n",
       "    Concession                   Region Previously Used Storage?  \\\n",
       "8         -0.1          Colorado / Utah                       No   \n",
       "10         0.0  Florida Markets - Other                      Yes   \n",
       "17        -0.1          Other Southeast                       No   \n",
       "27         0.0   New York / Northern NJ                       No   \n",
       "39        -0.1          Colorado / Utah                       No   \n",
       "\n",
       "                                   Purpose?        Storage Reason  \n",
       "8                                     Other                 Other  \n",
       "10                                    Other                 Other  \n",
       "17  Organizing / Creating More Living Space  Files / Office Items  \n",
       "27                                    Other  Files / Office Items  \n",
       "39  Organizing / Creating More Living Space  Files / Office Items  "
      ]
     },
     "execution_count": 46,
     "metadata": {},
     "output_type": "execute_result"
    }
   ],
   "source": [
    "Features.head()"
   ]
  },
  {
   "cell_type": "code",
   "execution_count": 47,
   "metadata": {},
   "outputs": [
    {
     "data": {
      "text/plain": [
       "<bound method Series.any of SquareFeet                     0\n",
       "Promotion Name              4304\n",
       "Source                         0\n",
       "RentRate                       0\n",
       "Concession                     0\n",
       "Region                         0\n",
       "Previously Used Storage?       0\n",
       "Purpose?                      19\n",
       "Storage Reason                10\n",
       "dtype: int64>"
      ]
     },
     "execution_count": 47,
     "metadata": {},
     "output_type": "execute_result"
    }
   ],
   "source": [
    "# Checking Null\n",
    "Features.isnull().sum().any"
   ]
  },
  {
   "cell_type": "markdown",
   "metadata": {},
   "source": [
    "Null values of Purpose? and Storage Reason are filled with Other category and for Promotion those are filled with 'No Promotion'"
   ]
  },
  {
   "cell_type": "code",
   "execution_count": 48,
   "metadata": {},
   "outputs": [],
   "source": [
    "Features['Purpose?']= Features['Purpose?'].fillna('Other')\n",
    "Features['Storage Reason']= Features['Storage Reason'].fillna('Other')\n",
    "Features['Promotion Name']= Features['Promotion Name'].fillna('No Promotion')"
   ]
  },
  {
   "cell_type": "code",
   "execution_count": 49,
   "metadata": {},
   "outputs": [
    {
     "data": {
      "text/plain": [
       "<bound method Series.any of SquareFeet                  0\n",
       "Promotion Name              0\n",
       "Source                      0\n",
       "RentRate                    0\n",
       "Concession                  0\n",
       "Region                      0\n",
       "Previously Used Storage?    0\n",
       "Purpose?                    0\n",
       "Storage Reason              0\n",
       "dtype: int64>"
      ]
     },
     "execution_count": 49,
     "metadata": {},
     "output_type": "execute_result"
    }
   ],
   "source": [
    "# No more nulls\n",
    "Features.isnull().sum().any"
   ]
  },
  {
   "cell_type": "code",
   "execution_count": 50,
   "metadata": {},
   "outputs": [],
   "source": [
    "X = pd.get_dummies(Features)"
   ]
  },
  {
   "cell_type": "code",
   "execution_count": 51,
   "metadata": {},
   "outputs": [],
   "source": [
    "Y = dataset_Rented_True_known_stayknown['Length_of_stay']"
   ]
  },
  {
   "cell_type": "code",
   "execution_count": 52,
   "metadata": {},
   "outputs": [
    {
     "data": {
      "text/plain": [
       "(15321, 47)"
      ]
     },
     "execution_count": 52,
     "metadata": {},
     "output_type": "execute_result"
    }
   ],
   "source": [
    "X.shape"
   ]
  },
  {
   "cell_type": "code",
   "execution_count": 53,
   "metadata": {},
   "outputs": [],
   "source": [
    "# Data Split\n",
    "X_train, X_val,Y_train, Y_val = train_test_split(X,Y, test_size= 0.15)"
   ]
  },
  {
   "cell_type": "markdown",
   "metadata": {},
   "source": [
    "Applying Linear Regression"
   ]
  },
  {
   "cell_type": "code",
   "execution_count": 54,
   "metadata": {},
   "outputs": [],
   "source": [
    "lm_model = sm.OLS(Y_train, sm.add_constant(X_train)).fit()"
   ]
  },
  {
   "cell_type": "code",
   "execution_count": 55,
   "metadata": {},
   "outputs": [
    {
     "data": {
      "text/html": [
       "<table class=\"simpletable\">\n",
       "<caption>OLS Regression Results</caption>\n",
       "<tr>\n",
       "  <th>Dep. Variable:</th>     <td>Length_of_stay</td>  <th>  R-squared:         </th> <td>   0.037</td> \n",
       "</tr>\n",
       "<tr>\n",
       "  <th>Model:</th>                   <td>OLS</td>       <th>  Adj. R-squared:    </th> <td>   0.034</td> \n",
       "</tr>\n",
       "<tr>\n",
       "  <th>Method:</th>             <td>Least Squares</td>  <th>  F-statistic:       </th> <td>   12.21</td> \n",
       "</tr>\n",
       "<tr>\n",
       "  <th>Date:</th>             <td>Tue, 29 Oct 2019</td> <th>  Prob (F-statistic):</th> <td>1.35e-78</td> \n",
       "</tr>\n",
       "<tr>\n",
       "  <th>Time:</th>                 <td>15:38:16</td>     <th>  Log-Likelihood:    </th> <td> -32327.</td> \n",
       "</tr>\n",
       "<tr>\n",
       "  <th>No. Observations:</th>      <td> 13022</td>      <th>  AIC:               </th> <td>6.474e+04</td>\n",
       "</tr>\n",
       "<tr>\n",
       "  <th>Df Residuals:</th>          <td> 12980</td>      <th>  BIC:               </th> <td>6.505e+04</td>\n",
       "</tr>\n",
       "<tr>\n",
       "  <th>Df Model:</th>              <td>    41</td>      <th>                     </th>     <td> </td>    \n",
       "</tr>\n",
       "<tr>\n",
       "  <th>Covariance Type:</th>      <td>nonrobust</td>    <th>                     </th>     <td> </td>    \n",
       "</tr>\n",
       "</table>\n",
       "<table class=\"simpletable\">\n",
       "<tr>\n",
       "                                 <td></td>                                   <th>coef</th>     <th>std err</th>      <th>t</th>      <th>P>|t|</th>  <th>[0.025</th>    <th>0.975]</th>  \n",
       "</tr>\n",
       "<tr>\n",
       "  <th>const</th>                                                          <td>    2.0667</td> <td>    0.076</td> <td>   27.365</td> <td> 0.000</td> <td>    1.919</td> <td>    2.215</td>\n",
       "</tr>\n",
       "<tr>\n",
       "  <th>SquareFeet</th>                                                     <td>    0.0025</td> <td>    0.001</td> <td>    4.297</td> <td> 0.000</td> <td>    0.001</td> <td>    0.004</td>\n",
       "</tr>\n",
       "<tr>\n",
       "  <th>RentRate</th>                                                       <td>   -0.0044</td> <td>    0.001</td> <td>   -5.124</td> <td> 0.000</td> <td>   -0.006</td> <td>   -0.003</td>\n",
       "</tr>\n",
       "<tr>\n",
       "  <th>Concession</th>                                                     <td>   -0.3559</td> <td>    0.366</td> <td>   -0.971</td> <td> 0.332</td> <td>   -1.074</td> <td>    0.362</td>\n",
       "</tr>\n",
       "<tr>\n",
       "  <th>Promotion Name_First Month Free</th>                                <td>    0.3027</td> <td>    0.146</td> <td>    2.071</td> <td> 0.038</td> <td>    0.016</td> <td>    0.589</td>\n",
       "</tr>\n",
       "<tr>\n",
       "  <th>Promotion Name_First Month Half Off</th>                            <td>   -0.1377</td> <td>    0.165</td> <td>   -0.832</td> <td> 0.405</td> <td>   -0.462</td> <td>    0.187</td>\n",
       "</tr>\n",
       "<tr>\n",
       "  <th>Promotion Name_No Promotion</th>                                    <td>    1.1911</td> <td>    0.149</td> <td>    8.000</td> <td> 0.000</td> <td>    0.899</td> <td>    1.483</td>\n",
       "</tr>\n",
       "<tr>\n",
       "  <th>Promotion Name_Two Months Free</th>                                 <td>    0.1507</td> <td>    0.566</td> <td>    0.266</td> <td> 0.790</td> <td>   -0.958</td> <td>    1.259</td>\n",
       "</tr>\n",
       "<tr>\n",
       "  <th>Promotion Name_Two Months Half Off</th>                             <td>    0.5600</td> <td>    0.312</td> <td>    1.794</td> <td> 0.073</td> <td>   -0.052</td> <td>    1.172</td>\n",
       "</tr>\n",
       "<tr>\n",
       "  <th>Source_Sales Center Reservation</th>                                <td>    0.8754</td> <td>    0.052</td> <td>   16.824</td> <td> 0.000</td> <td>    0.773</td> <td>    0.977</td>\n",
       "</tr>\n",
       "<tr>\n",
       "  <th>Source_Store Reservation</th>                                       <td>    0.5602</td> <td>    0.054</td> <td>   10.418</td> <td> 0.000</td> <td>    0.455</td> <td>    0.666</td>\n",
       "</tr>\n",
       "<tr>\n",
       "  <th>Source_Web Reservation</th>                                         <td>    0.6312</td> <td>    0.044</td> <td>   14.317</td> <td> 0.000</td> <td>    0.545</td> <td>    0.718</td>\n",
       "</tr>\n",
       "<tr>\n",
       "  <th>Region_Arizona / Las Vegas</th>                                     <td>   -0.1140</td> <td>    0.087</td> <td>   -1.307</td> <td> 0.191</td> <td>   -0.285</td> <td>    0.057</td>\n",
       "</tr>\n",
       "<tr>\n",
       "  <th>Region_Atlanta</th>                                                 <td>    0.1246</td> <td>    0.085</td> <td>    1.464</td> <td> 0.143</td> <td>   -0.042</td> <td>    0.291</td>\n",
       "</tr>\n",
       "<tr>\n",
       "  <th>Region_Baltimore / DC</th>                                          <td>   -0.2534</td> <td>    0.168</td> <td>   -1.505</td> <td> 0.132</td> <td>   -0.583</td> <td>    0.077</td>\n",
       "</tr>\n",
       "<tr>\n",
       "  <th>Region_Boston</th>                                                  <td>    0.1462</td> <td>    0.136</td> <td>    1.075</td> <td> 0.282</td> <td>   -0.120</td> <td>    0.413</td>\n",
       "</tr>\n",
       "<tr>\n",
       "  <th>Region_Chicago</th>                                                 <td>   -0.3828</td> <td>    0.233</td> <td>   -1.646</td> <td> 0.100</td> <td>   -0.839</td> <td>    0.073</td>\n",
       "</tr>\n",
       "<tr>\n",
       "  <th>Region_Colorado / Utah</th>                                         <td>    0.3892</td> <td>    0.085</td> <td>    4.586</td> <td> 0.000</td> <td>    0.223</td> <td>    0.556</td>\n",
       "</tr>\n",
       "<tr>\n",
       "  <th>Region_Connecticut</th>                                             <td>    0.0999</td> <td>    0.120</td> <td>    0.832</td> <td> 0.406</td> <td>   -0.136</td> <td>    0.335</td>\n",
       "</tr>\n",
       "<tr>\n",
       "  <th>Region_Florida Markets - Other</th>                                 <td>    0.2611</td> <td>    0.127</td> <td>    2.048</td> <td> 0.041</td> <td>    0.011</td> <td>    0.511</td>\n",
       "</tr>\n",
       "<tr>\n",
       "  <th>Region_Inland Empire</th>                                           <td>    0.0081</td> <td>    0.074</td> <td>    0.110</td> <td> 0.912</td> <td>   -0.136</td> <td>    0.153</td>\n",
       "</tr>\n",
       "<tr>\n",
       "  <th>Region_Miami / Ft. Lauderdale</th>                                  <td>    0.1071</td> <td>    0.110</td> <td>    0.977</td> <td> 0.328</td> <td>   -0.108</td> <td>    0.322</td>\n",
       "</tr>\n",
       "<tr>\n",
       "  <th>Region_New York / Northern NJ</th>                                  <td>    0.1083</td> <td>    0.113</td> <td>    0.960</td> <td> 0.337</td> <td>   -0.113</td> <td>    0.329</td>\n",
       "</tr>\n",
       "<tr>\n",
       "  <th>Region_Ohio</th>                                                    <td>    0.5048</td> <td>    0.114</td> <td>    4.426</td> <td> 0.000</td> <td>    0.281</td> <td>    0.728</td>\n",
       "</tr>\n",
       "<tr>\n",
       "  <th>Region_Other Midwest</th>                                           <td>    0.2447</td> <td>    0.101</td> <td>    2.433</td> <td> 0.015</td> <td>    0.048</td> <td>    0.442</td>\n",
       "</tr>\n",
       "<tr>\n",
       "  <th>Region_Other Northeast</th>                                         <td>   -0.4297</td> <td>    0.133</td> <td>   -3.228</td> <td> 0.001</td> <td>   -0.691</td> <td>   -0.169</td>\n",
       "</tr>\n",
       "<tr>\n",
       "  <th>Region_Other Southeast</th>                                         <td>    0.7427</td> <td>    0.229</td> <td>    3.239</td> <td> 0.001</td> <td>    0.293</td> <td>    1.192</td>\n",
       "</tr>\n",
       "<tr>\n",
       "  <th>Region_Other West</th>                                              <td>   -0.0342</td> <td>    0.136</td> <td>   -0.251</td> <td> 0.802</td> <td>   -0.302</td> <td>    0.233</td>\n",
       "</tr>\n",
       "<tr>\n",
       "  <th>Region_Philadelphia / Southern NJ</th>                              <td>   -0.1737</td> <td>    0.144</td> <td>   -1.206</td> <td> 0.228</td> <td>   -0.456</td> <td>    0.109</td>\n",
       "</tr>\n",
       "<tr>\n",
       "  <th>Region_Southern California</th>                                     <td>    0.2625</td> <td>    0.155</td> <td>    1.691</td> <td> 0.091</td> <td>   -0.042</td> <td>    0.567</td>\n",
       "</tr>\n",
       "<tr>\n",
       "  <th>Region_Tennessee</th>                                               <td>    0.3042</td> <td>    0.148</td> <td>    2.054</td> <td> 0.040</td> <td>    0.014</td> <td>    0.594</td>\n",
       "</tr>\n",
       "<tr>\n",
       "  <th>Region_Texas Markets - Major</th>                                   <td>    0.1510</td> <td>    0.133</td> <td>    1.131</td> <td> 0.258</td> <td>   -0.111</td> <td>    0.413</td>\n",
       "</tr>\n",
       "<tr>\n",
       "  <th>Previously Used Storage?_No</th>                                    <td>    1.0280</td> <td>    0.046</td> <td>   22.418</td> <td> 0.000</td> <td>    0.938</td> <td>    1.118</td>\n",
       "</tr>\n",
       "<tr>\n",
       "  <th>Previously Used Storage?_Yes</th>                                   <td>    1.0386</td> <td>    0.046</td> <td>   22.752</td> <td> 0.000</td> <td>    0.949</td> <td>    1.128</td>\n",
       "</tr>\n",
       "<tr>\n",
       "  <th>Purpose?_Business Purposes</th>                                     <td>    0.8899</td> <td>    0.095</td> <td>    9.399</td> <td> 0.000</td> <td>    0.704</td> <td>    1.075</td>\n",
       "</tr>\n",
       "<tr>\n",
       "  <th>Purpose?_Moving (includes college & military deployment)</th>       <td>    0.1693</td> <td>    0.102</td> <td>    1.660</td> <td> 0.097</td> <td>   -0.031</td> <td>    0.369</td>\n",
       "</tr>\n",
       "<tr>\n",
       "  <th>Purpose?_Organizing / Creating More Living Space</th>               <td>    0.0188</td> <td>    0.055</td> <td>    0.340</td> <td> 0.734</td> <td>   -0.090</td> <td>    0.127</td>\n",
       "</tr>\n",
       "<tr>\n",
       "  <th>Purpose?_Other</th>                                                 <td>    0.3567</td> <td>    0.070</td> <td>    5.087</td> <td> 0.000</td> <td>    0.219</td> <td>    0.494</td>\n",
       "</tr>\n",
       "<tr>\n",
       "  <th>Purpose?_Recently Acquired Items (inheritance, purchase, etc.)</th> <td>    0.1230</td> <td>    0.059</td> <td>    2.099</td> <td> 0.036</td> <td>    0.008</td> <td>    0.238</td>\n",
       "</tr>\n",
       "<tr>\n",
       "  <th>Purpose?_Remodeling / Renovating</th>                               <td>    0.0811</td> <td>    0.134</td> <td>    0.603</td> <td> 0.546</td> <td>   -0.182</td> <td>    0.345</td>\n",
       "</tr>\n",
       "<tr>\n",
       "  <th>Purpose?_Seasonal Storage</th>                                      <td>    0.4279</td> <td>    0.131</td> <td>    3.279</td> <td> 0.001</td> <td>    0.172</td> <td>    0.684</td>\n",
       "</tr>\n",
       "<tr>\n",
       "  <th>Storage Reason_Auto / Motorcycle / Boat</th>                        <td>    0.6449</td> <td>    0.149</td> <td>    4.322</td> <td> 0.000</td> <td>    0.352</td> <td>    0.937</td>\n",
       "</tr>\n",
       "<tr>\n",
       "  <th>Storage Reason_Business Inventory / Product</th>                    <td>    0.4122</td> <td>    0.094</td> <td>    4.370</td> <td> 0.000</td> <td>    0.227</td> <td>    0.597</td>\n",
       "</tr>\n",
       "<tr>\n",
       "  <th>Storage Reason_Clothes / Toys / Miscellaneous</th>                  <td>    0.0618</td> <td>    0.150</td> <td>    0.412</td> <td> 0.680</td> <td>   -0.232</td> <td>    0.355</td>\n",
       "</tr>\n",
       "<tr>\n",
       "  <th>Storage Reason_Files / Office Items</th>                            <td>    0.0175</td> <td>    0.074</td> <td>    0.236</td> <td> 0.814</td> <td>   -0.128</td> <td>    0.163</td>\n",
       "</tr>\n",
       "<tr>\n",
       "  <th>Storage Reason_Furniture / Household goods / Appliances</th>        <td>    0.4171</td> <td>    0.194</td> <td>    2.146</td> <td> 0.032</td> <td>    0.036</td> <td>    0.798</td>\n",
       "</tr>\n",
       "<tr>\n",
       "  <th>Storage Reason_Other</th>                                           <td>    0.2001</td> <td>    0.062</td> <td>    3.223</td> <td> 0.001</td> <td>    0.078</td> <td>    0.322</td>\n",
       "</tr>\n",
       "<tr>\n",
       "  <th>Storage Reason_Yard Equipment / Tools</th>                          <td>    0.3132</td> <td>    0.098</td> <td>    3.186</td> <td> 0.001</td> <td>    0.121</td> <td>    0.506</td>\n",
       "</tr>\n",
       "</table>\n",
       "<table class=\"simpletable\">\n",
       "<tr>\n",
       "  <th>Omnibus:</th>       <td>1520.039</td> <th>  Durbin-Watson:     </th> <td>   2.028</td>\n",
       "</tr>\n",
       "<tr>\n",
       "  <th>Prob(Omnibus):</th>  <td> 0.000</td>  <th>  Jarque-Bera (JB):  </th> <td>2109.223</td>\n",
       "</tr>\n",
       "<tr>\n",
       "  <th>Skew:</th>           <td> 0.976</td>  <th>  Prob(JB):          </th> <td>    0.00</td>\n",
       "</tr>\n",
       "<tr>\n",
       "  <th>Kurtosis:</th>       <td> 3.281</td>  <th>  Cond. No.          </th> <td>6.85e+16</td>\n",
       "</tr>\n",
       "</table><br/><br/>Warnings:<br/>[1] Standard Errors assume that the covariance matrix of the errors is correctly specified.<br/>[2] The smallest eigenvalue is 8.22e-26. This might indicate that there are<br/>strong multicollinearity problems or that the design matrix is singular."
      ],
      "text/plain": [
       "<class 'statsmodels.iolib.summary.Summary'>\n",
       "\"\"\"\n",
       "                            OLS Regression Results                            \n",
       "==============================================================================\n",
       "Dep. Variable:         Length_of_stay   R-squared:                       0.037\n",
       "Model:                            OLS   Adj. R-squared:                  0.034\n",
       "Method:                 Least Squares   F-statistic:                     12.21\n",
       "Date:                Tue, 29 Oct 2019   Prob (F-statistic):           1.35e-78\n",
       "Time:                        15:38:16   Log-Likelihood:                -32327.\n",
       "No. Observations:               13022   AIC:                         6.474e+04\n",
       "Df Residuals:                   12980   BIC:                         6.505e+04\n",
       "Df Model:                          41                                         \n",
       "Covariance Type:            nonrobust                                         \n",
       "==================================================================================================================================\n",
       "                                                                     coef    std err          t      P>|t|      [0.025      0.975]\n",
       "----------------------------------------------------------------------------------------------------------------------------------\n",
       "const                                                              2.0667      0.076     27.365      0.000       1.919       2.215\n",
       "SquareFeet                                                         0.0025      0.001      4.297      0.000       0.001       0.004\n",
       "RentRate                                                          -0.0044      0.001     -5.124      0.000      -0.006      -0.003\n",
       "Concession                                                        -0.3559      0.366     -0.971      0.332      -1.074       0.362\n",
       "Promotion Name_First Month Free                                    0.3027      0.146      2.071      0.038       0.016       0.589\n",
       "Promotion Name_First Month Half Off                               -0.1377      0.165     -0.832      0.405      -0.462       0.187\n",
       "Promotion Name_No Promotion                                        1.1911      0.149      8.000      0.000       0.899       1.483\n",
       "Promotion Name_Two Months Free                                     0.1507      0.566      0.266      0.790      -0.958       1.259\n",
       "Promotion Name_Two Months Half Off                                 0.5600      0.312      1.794      0.073      -0.052       1.172\n",
       "Source_Sales Center Reservation                                    0.8754      0.052     16.824      0.000       0.773       0.977\n",
       "Source_Store Reservation                                           0.5602      0.054     10.418      0.000       0.455       0.666\n",
       "Source_Web Reservation                                             0.6312      0.044     14.317      0.000       0.545       0.718\n",
       "Region_Arizona / Las Vegas                                        -0.1140      0.087     -1.307      0.191      -0.285       0.057\n",
       "Region_Atlanta                                                     0.1246      0.085      1.464      0.143      -0.042       0.291\n",
       "Region_Baltimore / DC                                             -0.2534      0.168     -1.505      0.132      -0.583       0.077\n",
       "Region_Boston                                                      0.1462      0.136      1.075      0.282      -0.120       0.413\n",
       "Region_Chicago                                                    -0.3828      0.233     -1.646      0.100      -0.839       0.073\n",
       "Region_Colorado / Utah                                             0.3892      0.085      4.586      0.000       0.223       0.556\n",
       "Region_Connecticut                                                 0.0999      0.120      0.832      0.406      -0.136       0.335\n",
       "Region_Florida Markets - Other                                     0.2611      0.127      2.048      0.041       0.011       0.511\n",
       "Region_Inland Empire                                               0.0081      0.074      0.110      0.912      -0.136       0.153\n",
       "Region_Miami / Ft. Lauderdale                                      0.1071      0.110      0.977      0.328      -0.108       0.322\n",
       "Region_New York / Northern NJ                                      0.1083      0.113      0.960      0.337      -0.113       0.329\n",
       "Region_Ohio                                                        0.5048      0.114      4.426      0.000       0.281       0.728\n",
       "Region_Other Midwest                                               0.2447      0.101      2.433      0.015       0.048       0.442\n",
       "Region_Other Northeast                                            -0.4297      0.133     -3.228      0.001      -0.691      -0.169\n",
       "Region_Other Southeast                                             0.7427      0.229      3.239      0.001       0.293       1.192\n",
       "Region_Other West                                                 -0.0342      0.136     -0.251      0.802      -0.302       0.233\n",
       "Region_Philadelphia / Southern NJ                                 -0.1737      0.144     -1.206      0.228      -0.456       0.109\n",
       "Region_Southern California                                         0.2625      0.155      1.691      0.091      -0.042       0.567\n",
       "Region_Tennessee                                                   0.3042      0.148      2.054      0.040       0.014       0.594\n",
       "Region_Texas Markets - Major                                       0.1510      0.133      1.131      0.258      -0.111       0.413\n",
       "Previously Used Storage?_No                                        1.0280      0.046     22.418      0.000       0.938       1.118\n",
       "Previously Used Storage?_Yes                                       1.0386      0.046     22.752      0.000       0.949       1.128\n",
       "Purpose?_Business Purposes                                         0.8899      0.095      9.399      0.000       0.704       1.075\n",
       "Purpose?_Moving (includes college & military deployment)           0.1693      0.102      1.660      0.097      -0.031       0.369\n",
       "Purpose?_Organizing / Creating More Living Space                   0.0188      0.055      0.340      0.734      -0.090       0.127\n",
       "Purpose?_Other                                                     0.3567      0.070      5.087      0.000       0.219       0.494\n",
       "Purpose?_Recently Acquired Items (inheritance, purchase, etc.)     0.1230      0.059      2.099      0.036       0.008       0.238\n",
       "Purpose?_Remodeling / Renovating                                   0.0811      0.134      0.603      0.546      -0.182       0.345\n",
       "Purpose?_Seasonal Storage                                          0.4279      0.131      3.279      0.001       0.172       0.684\n",
       "Storage Reason_Auto / Motorcycle / Boat                            0.6449      0.149      4.322      0.000       0.352       0.937\n",
       "Storage Reason_Business Inventory / Product                        0.4122      0.094      4.370      0.000       0.227       0.597\n",
       "Storage Reason_Clothes / Toys / Miscellaneous                      0.0618      0.150      0.412      0.680      -0.232       0.355\n",
       "Storage Reason_Files / Office Items                                0.0175      0.074      0.236      0.814      -0.128       0.163\n",
       "Storage Reason_Furniture / Household goods / Appliances            0.4171      0.194      2.146      0.032       0.036       0.798\n",
       "Storage Reason_Other                                               0.2001      0.062      3.223      0.001       0.078       0.322\n",
       "Storage Reason_Yard Equipment / Tools                              0.3132      0.098      3.186      0.001       0.121       0.506\n",
       "==============================================================================\n",
       "Omnibus:                     1520.039   Durbin-Watson:                   2.028\n",
       "Prob(Omnibus):                  0.000   Jarque-Bera (JB):             2109.223\n",
       "Skew:                           0.976   Prob(JB):                         0.00\n",
       "Kurtosis:                       3.281   Cond. No.                     6.85e+16\n",
       "==============================================================================\n",
       "\n",
       "Warnings:\n",
       "[1] Standard Errors assume that the covariance matrix of the errors is correctly specified.\n",
       "[2] The smallest eigenvalue is 8.22e-26. This might indicate that there are\n",
       "strong multicollinearity problems or that the design matrix is singular.\n",
       "\"\"\""
      ]
     },
     "execution_count": 55,
     "metadata": {},
     "output_type": "execute_result"
    }
   ],
   "source": [
    "lm_model.summary()"
   ]
  },
  {
   "cell_type": "markdown",
   "metadata": {},
   "source": [
    "Adjust R sqaure is very low, looks like given predictors are not sufficient in predicting length of stay. So, \n",
    "lenght of stay is mostly like an average value with high dependence on intercept. It is also anti-corelated with Rent Rate while concession is not coming statistically significant variable."
   ]
  },
  {
   "cell_type": "code",
   "execution_count": 56,
   "metadata": {},
   "outputs": [
    {
     "data": {
      "text/plain": [
       "8.371609948995335"
      ]
     },
     "execution_count": 56,
     "metadata": {},
     "output_type": "execute_result"
    }
   ],
   "source": [
    "# Checking performance on validation set\n",
    "Y_pred_val = lm_model.predict(sm.add_constant(X_val))\n",
    "mean_squared_error(Y_val,Y_pred_val )"
   ]
  },
  {
   "cell_type": "markdown",
   "metadata": {},
   "source": [
    "As there are many categorical variable, tree methods can be useful. Trying Random Forest and Xgboost:"
   ]
  },
  {
   "cell_type": "code",
   "execution_count": 57,
   "metadata": {},
   "outputs": [
    {
     "data": {
      "text/plain": [
       "RandomForestRegressor(bootstrap=True, criterion='mse', max_depth=None,\n",
       "           max_features='auto', max_leaf_nodes=None,\n",
       "           min_impurity_decrease=0.0, min_impurity_split=None,\n",
       "           min_samples_leaf=1, min_samples_split=2,\n",
       "           min_weight_fraction_leaf=0.0, n_estimators=10, n_jobs=None,\n",
       "           oob_score=False, random_state=42, verbose=0, warm_start=False)"
      ]
     },
     "execution_count": 57,
     "metadata": {},
     "output_type": "execute_result"
    }
   ],
   "source": [
    "rcf = RandomForestRegressor(random_state=42)\n",
    "rcf.fit(X_train, Y_train)"
   ]
  },
  {
   "cell_type": "code",
   "execution_count": 58,
   "metadata": {},
   "outputs": [
    {
     "data": {
      "text/plain": [
       "9.981756113999417"
      ]
     },
     "execution_count": 58,
     "metadata": {},
     "output_type": "execute_result"
    }
   ],
   "source": [
    "Y_pred_rcf = rcf.predict(X_val)\n",
    "mean_squared_error(Y_val,Y_pred_rcf )"
   ]
  },
  {
   "cell_type": "code",
   "execution_count": 59,
   "metadata": {},
   "outputs": [],
   "source": [
    "XGB = XGBRegressor(random_state=42)\n",
    "Xgb_model = XGB.fit(X_train, Y_train)"
   ]
  },
  {
   "cell_type": "code",
   "execution_count": 60,
   "metadata": {},
   "outputs": [
    {
     "data": {
      "text/plain": [
       "8.165257411141015"
      ]
     },
     "execution_count": 60,
     "metadata": {},
     "output_type": "execute_result"
    }
   ],
   "source": [
    "Y_pred_xgb = Xgb_model.predict(X_val)\n",
    "mean_squared_error(Y_val,Y_pred_xgb )"
   ]
  },
  {
   "cell_type": "code",
   "execution_count": 61,
   "metadata": {},
   "outputs": [
    {
     "data": {
      "text/plain": [
       "<matplotlib.collections.PathCollection at 0x1bc556b8b00>"
      ]
     },
     "execution_count": 61,
     "metadata": {},
     "output_type": "execute_result"
    },
    {
     "data": {
      "image/png": "[encoded data removed]",
      "text/plain": [
       "<Figure size 432x288 with 1 Axes>"
      ]
     },
     "metadata": {},
     "output_type": "display_data"
    }
   ],
   "source": [
    "plt.scatter(Y_val, Y_pred_xgb)"
   ]
  },
  {
   "cell_type": "code",
   "execution_count": 62,
   "metadata": {},
   "outputs": [
    {
     "data": {
      "text/plain": [
       "<matplotlib.collections.PathCollection at 0x1bc54349a58>"
      ]
     },
     "execution_count": 62,
     "metadata": {},
     "output_type": "execute_result"
    },
    {
     "data": {
      "image/png": "[encoded data removed]",
      "text/plain": [
       "<Figure size 432x288 with 1 Axes>"
      ]
     },
     "metadata": {},
     "output_type": "display_data"
    }
   ],
   "source": [
    "plt.scatter(Y_val, Y_pred_val)"
   ]
  },
  {
   "cell_type": "markdown",
   "metadata": {},
   "source": [
    "Performance in Xgboost and Linear Regression is almost similar, going with simpler model: Linear Regression due to less train data"
   ]
  },
  {
   "cell_type": "markdown",
   "metadata": {},
   "source": [
    "Training on overall data, including validation set:"
   ]
  },
  {
   "cell_type": "code",
   "execution_count": 63,
   "metadata": {},
   "outputs": [],
   "source": [
    "lm_model_final = sm.OLS(Y, sm.add_constant(X)).fit()"
   ]
  },
  {
   "cell_type": "code",
   "execution_count": 64,
   "metadata": {},
   "outputs": [],
   "source": [
    "unknown_data_features = dataset_Rented_True_known_stayunknown[['SquareFeet','Promotion Name','Source','RentRate','Concession','Region','Previously Used Storage?','Purpose?','Storage Reason']]"
   ]
  },
  {
   "cell_type": "code",
   "execution_count": 65,
   "metadata": {},
   "outputs": [
    {
     "data": {
      "text/plain": [
       "<bound method Series.any of SquareFeet                     0\n",
       "Promotion Name              6974\n",
       "Source                         0\n",
       "RentRate                       0\n",
       "Concession                     0\n",
       "Region                         0\n",
       "Previously Used Storage?       0\n",
       "Purpose?                      16\n",
       "Storage Reason                25\n",
       "dtype: int64>"
      ]
     },
     "execution_count": 65,
     "metadata": {},
     "output_type": "execute_result"
    }
   ],
   "source": [
    "unknown_data_features.isnull().sum().any"
   ]
  },
  {
   "cell_type": "markdown",
   "metadata": {},
   "source": [
    "filling null values in same way"
   ]
  },
  {
   "cell_type": "code",
   "execution_count": 66,
   "metadata": {},
   "outputs": [],
   "source": [
    "unknown_data_features['Purpose?']= unknown_data_features['Purpose?'].fillna('Other')\n",
    "unknown_data_features['Storage Reason']= unknown_data_features['Storage Reason'].fillna('Other')\n",
    "unknown_data_features['Promotion Name']= unknown_data_features['Promotion Name'].fillna('No Promotion')"
   ]
  },
  {
   "cell_type": "code",
   "execution_count": 67,
   "metadata": {},
   "outputs": [],
   "source": [
    "X_test = pd.get_dummies(unknown_data_features)"
   ]
  },
  {
   "cell_type": "code",
   "execution_count": 68,
   "metadata": {},
   "outputs": [],
   "source": [
    "Y_pred_test = lm_model_final.predict(sm.add_constant(X_test))"
   ]
  },
  {
   "cell_type": "code",
   "execution_count": 69,
   "metadata": {},
   "outputs": [
    {
     "data": {
      "text/plain": [
       "count    21367.000000\n",
       "mean         4.711286\n",
       "std          0.588102\n",
       "min          2.766813\n",
       "25%          4.292534\n",
       "50%          4.671901\n",
       "75%          5.135022\n",
       "max          6.992924\n",
       "dtype: float64"
      ]
     },
     "execution_count": 69,
     "metadata": {},
     "output_type": "execute_result"
    }
   ],
   "source": [
    "Y_pred_test.describe()"
   ]
  },
  {
   "cell_type": "markdown",
   "metadata": {},
   "source": [
    "As expected predicted values are in range of 2-7 months, having values nearby mean. If demographic, income and past rental information were known,\n",
    "range can be improved, giving us better idea of incremental stay"
   ]
  },
  {
   "cell_type": "code",
   "execution_count": 70,
   "metadata": {},
   "outputs": [],
   "source": [
    "dataset_Rented_True_known_stayunknown['predicted_stay_by_model'] = pd.Series(Y_pred_test)"
   ]
  },
  {
   "cell_type": "markdown",
   "metadata": {},
   "source": [
    "calculating months which are stayed already in test data:"
   ]
  },
  {
   "cell_type": "code",
   "execution_count": 71,
   "metadata": {},
   "outputs": [],
   "source": [
    "dataset_Rented_True_known_stayunknown['stayed_already']= dataset_Rented_True_known_stayunknown.apply(lambda x:  int(np.ceil((pd.datetime(2014,11,6) - x['Move In Date'])/np.timedelta64(1, 'M'))), axis=1)"
   ]
  },
  {
   "cell_type": "code",
   "execution_count": 72,
   "metadata": {},
   "outputs": [
    {
     "data": {
      "text/html": [
       "<div>\n",
       "<style scoped>\n",
       "    .dataframe tbody tr th:only-of-type {\n",
       "        vertical-align: middle;\n",
       "    }\n",
       "\n",
       "    .dataframe tbody tr th {\n",
       "        vertical-align: top;\n",
       "    }\n",
       "\n",
       "    .dataframe thead th {\n",
       "        text-align: right;\n",
       "    }\n",
       "</style>\n",
       "<table border=\"1\" class=\"dataframe\">\n",
       "  <thead>\n",
       "    <tr style=\"text-align: right;\">\n",
       "      <th></th>\n",
       "      <th>Store</th>\n",
       "      <th>Account ID</th>\n",
       "      <th>SquareFeet</th>\n",
       "      <th>Rented?</th>\n",
       "      <th>ReserveDate</th>\n",
       "      <th>Move In Date</th>\n",
       "      <th>Move Out Date</th>\n",
       "      <th>Promotion Name</th>\n",
       "      <th>Source</th>\n",
       "      <th>RentRate</th>\n",
       "      <th>StreetRate</th>\n",
       "      <th>Concession</th>\n",
       "      <th>Region</th>\n",
       "      <th>Previously Used Storage?</th>\n",
       "      <th>Purpose?</th>\n",
       "      <th>Storage Reason</th>\n",
       "      <th>predicted_stay_by_model</th>\n",
       "      <th>stayed_already</th>\n",
       "    </tr>\n",
       "  </thead>\n",
       "  <tbody>\n",
       "    <tr>\n",
       "      <th>3</th>\n",
       "      <td>1615</td>\n",
       "      <td>105003</td>\n",
       "      <td>300</td>\n",
       "      <td>True</td>\n",
       "      <td>2012-11-11 17:05:25.627</td>\n",
       "      <td>2012-11-11 17:05:27.627</td>\n",
       "      <td>NaT</td>\n",
       "      <td>NaN</td>\n",
       "      <td>Web Reservation</td>\n",
       "      <td>224.0</td>\n",
       "      <td>224.0</td>\n",
       "      <td>0.0</td>\n",
       "      <td>Inland Empire</td>\n",
       "      <td>No</td>\n",
       "      <td>Other</td>\n",
       "      <td>Other</td>\n",
       "      <td>5.271033</td>\n",
       "      <td>24</td>\n",
       "    </tr>\n",
       "    <tr>\n",
       "      <th>24</th>\n",
       "      <td>2715</td>\n",
       "      <td>105024</td>\n",
       "      <td>25</td>\n",
       "      <td>True</td>\n",
       "      <td>2012-11-11 20:32:25.000</td>\n",
       "      <td>2012-11-12 02:42:42.000</td>\n",
       "      <td>NaT</td>\n",
       "      <td>First Month Free</td>\n",
       "      <td>Sales Center Reservation</td>\n",
       "      <td>58.0</td>\n",
       "      <td>58.0</td>\n",
       "      <td>0.0</td>\n",
       "      <td>Baltimore / DC</td>\n",
       "      <td>Yes</td>\n",
       "      <td>Other</td>\n",
       "      <td>Files / Office Items</td>\n",
       "      <td>4.234080</td>\n",
       "      <td>24</td>\n",
       "    </tr>\n",
       "    <tr>\n",
       "      <th>30</th>\n",
       "      <td>2800</td>\n",
       "      <td>105030</td>\n",
       "      <td>25</td>\n",
       "      <td>True</td>\n",
       "      <td>2012-11-11 20:59:47.000</td>\n",
       "      <td>2012-11-11 23:21:41.000</td>\n",
       "      <td>NaT</td>\n",
       "      <td>First Month Half Off</td>\n",
       "      <td>Sales Center Reservation</td>\n",
       "      <td>75.6</td>\n",
       "      <td>84.0</td>\n",
       "      <td>-0.1</td>\n",
       "      <td>Ohio</td>\n",
       "      <td>No</td>\n",
       "      <td>Moving (includes college &amp; military deployment)</td>\n",
       "      <td>Furniture / Household goods / Appliances</td>\n",
       "      <td>4.392319</td>\n",
       "      <td>24</td>\n",
       "    </tr>\n",
       "    <tr>\n",
       "      <th>40</th>\n",
       "      <td>2870</td>\n",
       "      <td>105040</td>\n",
       "      <td>50</td>\n",
       "      <td>True</td>\n",
       "      <td>2012-11-11 22:09:59.000</td>\n",
       "      <td>2012-11-12 02:53:37.000</td>\n",
       "      <td>NaT</td>\n",
       "      <td>First Month Free</td>\n",
       "      <td>Sales Center Reservation</td>\n",
       "      <td>34.2</td>\n",
       "      <td>38.0</td>\n",
       "      <td>-0.1</td>\n",
       "      <td>New York / Northern NJ</td>\n",
       "      <td>Yes</td>\n",
       "      <td>Recently Acquired Items (inheritance, purchase...</td>\n",
       "      <td>Files / Office Items</td>\n",
       "      <td>4.617081</td>\n",
       "      <td>24</td>\n",
       "    </tr>\n",
       "    <tr>\n",
       "      <th>42</th>\n",
       "      <td>2725</td>\n",
       "      <td>105042</td>\n",
       "      <td>100</td>\n",
       "      <td>True</td>\n",
       "      <td>2012-11-11 22:18:43.000</td>\n",
       "      <td>2012-11-11 23:03:57.000</td>\n",
       "      <td>NaT</td>\n",
       "      <td>First Month Half Off</td>\n",
       "      <td>Sales Center Reservation</td>\n",
       "      <td>125.1</td>\n",
       "      <td>139.0</td>\n",
       "      <td>-0.1</td>\n",
       "      <td>Southern California</td>\n",
       "      <td>No</td>\n",
       "      <td>Organizing / Creating More Living Space</td>\n",
       "      <td>Other</td>\n",
       "      <td>4.135700</td>\n",
       "      <td>24</td>\n",
       "    </tr>\n",
       "  </tbody>\n",
       "</table>\n",
       "</div>"
      ],
      "text/plain": [
       "    Store  Account ID  SquareFeet  Rented?             ReserveDate  \\\n",
       "3    1615      105003         300     True 2012-11-11 17:05:25.627   \n",
       "24   2715      105024          25     True 2012-11-11 20:32:25.000   \n",
       "30   2800      105030          25     True 2012-11-11 20:59:47.000   \n",
       "40   2870      105040          50     True 2012-11-11 22:09:59.000   \n",
       "42   2725      105042         100     True 2012-11-11 22:18:43.000   \n",
       "\n",
       "              Move In Date Move Out Date        Promotion Name  \\\n",
       "3  2012-11-11 17:05:27.627           NaT                   NaN   \n",
       "24 2012-11-12 02:42:42.000           NaT      First Month Free   \n",
       "30 2012-11-11 23:21:41.000           NaT  First Month Half Off   \n",
       "40 2012-11-12 02:53:37.000           NaT      First Month Free   \n",
       "42 2012-11-11 23:03:57.000           NaT  First Month Half Off   \n",
       "\n",
       "                      Source  RentRate  StreetRate  Concession  \\\n",
       "3            Web Reservation     224.0       224.0         0.0   \n",
       "24  Sales Center Reservation      58.0        58.0         0.0   \n",
       "30  Sales Center Reservation      75.6        84.0        -0.1   \n",
       "40  Sales Center Reservation      34.2        38.0        -0.1   \n",
       "42  Sales Center Reservation     125.1       139.0        -0.1   \n",
       "\n",
       "                    Region Previously Used Storage?  \\\n",
       "3            Inland Empire                       No   \n",
       "24          Baltimore / DC                      Yes   \n",
       "30                    Ohio                       No   \n",
       "40  New York / Northern NJ                      Yes   \n",
       "42     Southern California                       No   \n",
       "\n",
       "                                             Purpose?  \\\n",
       "3                                               Other   \n",
       "24                                              Other   \n",
       "30    Moving (includes college & military deployment)   \n",
       "40  Recently Acquired Items (inheritance, purchase...   \n",
       "42            Organizing / Creating More Living Space   \n",
       "\n",
       "                              Storage Reason  predicted_stay_by_model  \\\n",
       "3                                      Other                 5.271033   \n",
       "24                      Files / Office Items                 4.234080   \n",
       "30  Furniture / Household goods / Appliances                 4.392319   \n",
       "40                      Files / Office Items                 4.617081   \n",
       "42                                     Other                 4.135700   \n",
       "\n",
       "    stayed_already  \n",
       "3               24  \n",
       "24              24  \n",
       "30              24  \n",
       "40              24  \n",
       "42              24  "
      ]
     },
     "execution_count": 72,
     "metadata": {},
     "output_type": "execute_result"
    }
   ],
   "source": [
    "dataset_Rented_True_known_stayunknown.head()"
   ]
  },
  {
   "cell_type": "markdown",
   "metadata": {},
   "source": [
    "Checking plot of # of months already stayed against values predicted by model "
   ]
  },
  {
   "cell_type": "code",
   "execution_count": 75,
   "metadata": {},
   "outputs": [
    {
     "data": {
      "text/plain": [
       "[]"
      ]
     },
     "execution_count": 75,
     "metadata": {},
     "output_type": "execute_result"
    },
    {
     "data": {
      "image/png": "[encoded data removed]",
      "text/plain": [
       "<Figure size 432x288 with 1 Axes>"
      ]
     },
     "metadata": {},
     "output_type": "display_data"
    }
   ],
   "source": [
    "plt.plot(dataset_Rented_True_known_stayunknown['stayed_already'],dataset_Rented_True_known_stayunknown['predicted_stay_by_model'])\n",
    "plt.xlabel(\"# of months already stayed \")\n",
    "plt.ylabel(\"months predicted by model\")\n",
    "plt.plot()"
   ]
  },
  {
   "cell_type": "markdown",
   "metadata": {},
   "source": [
    "Length of stay  =  months already stayed + additional stay predicted by model"
   ]
  },
  {
   "cell_type": "code",
   "execution_count": 76,
   "metadata": {},
   "outputs": [],
   "source": [
    "dataset_Rented_True_known_stayunknown['Length_of_stay'] = dataset_Rented_True_known_stayunknown.apply(lambda x: int(np.ceil(x['predicted_stay_by_model'])+ x['stayed_already']), axis=1)"
   ]
  },
  {
   "cell_type": "code",
   "execution_count": 77,
   "metadata": {},
   "outputs": [
    {
     "data": {
      "text/html": [
       "<div>\n",
       "<style scoped>\n",
       "    .dataframe tbody tr th:only-of-type {\n",
       "        vertical-align: middle;\n",
       "    }\n",
       "\n",
       "    .dataframe tbody tr th {\n",
       "        vertical-align: top;\n",
       "    }\n",
       "\n",
       "    .dataframe thead th {\n",
       "        text-align: right;\n",
       "    }\n",
       "</style>\n",
       "<table border=\"1\" class=\"dataframe\">\n",
       "  <thead>\n",
       "    <tr style=\"text-align: right;\">\n",
       "      <th></th>\n",
       "      <th>Store</th>\n",
       "      <th>Account ID</th>\n",
       "      <th>SquareFeet</th>\n",
       "      <th>Rented?</th>\n",
       "      <th>ReserveDate</th>\n",
       "      <th>Move In Date</th>\n",
       "      <th>Move Out Date</th>\n",
       "      <th>Promotion Name</th>\n",
       "      <th>Source</th>\n",
       "      <th>RentRate</th>\n",
       "      <th>StreetRate</th>\n",
       "      <th>Concession</th>\n",
       "      <th>Region</th>\n",
       "      <th>Previously Used Storage?</th>\n",
       "      <th>Purpose?</th>\n",
       "      <th>Storage Reason</th>\n",
       "      <th>predicted_stay_by_model</th>\n",
       "      <th>stayed_already</th>\n",
       "      <th>Length_of_stay</th>\n",
       "    </tr>\n",
       "  </thead>\n",
       "  <tbody>\n",
       "    <tr>\n",
       "      <th>3</th>\n",
       "      <td>1615</td>\n",
       "      <td>105003</td>\n",
       "      <td>300</td>\n",
       "      <td>True</td>\n",
       "      <td>2012-11-11 17:05:25.627</td>\n",
       "      <td>2012-11-11 17:05:27.627</td>\n",
       "      <td>NaT</td>\n",
       "      <td>NaN</td>\n",
       "      <td>Web Reservation</td>\n",
       "      <td>224.0</td>\n",
       "      <td>224.0</td>\n",
       "      <td>0.0</td>\n",
       "      <td>Inland Empire</td>\n",
       "      <td>No</td>\n",
       "      <td>Other</td>\n",
       "      <td>Other</td>\n",
       "      <td>5.271033</td>\n",
       "      <td>24</td>\n",
       "      <td>30</td>\n",
       "    </tr>\n",
       "    <tr>\n",
       "      <th>24</th>\n",
       "      <td>2715</td>\n",
       "      <td>105024</td>\n",
       "      <td>25</td>\n",
       "      <td>True</td>\n",
       "      <td>2012-11-11 20:32:25.000</td>\n",
       "      <td>2012-11-12 02:42:42.000</td>\n",
       "      <td>NaT</td>\n",
       "      <td>First Month Free</td>\n",
       "      <td>Sales Center Reservation</td>\n",
       "      <td>58.0</td>\n",
       "      <td>58.0</td>\n",
       "      <td>0.0</td>\n",
       "      <td>Baltimore / DC</td>\n",
       "      <td>Yes</td>\n",
       "      <td>Other</td>\n",
       "      <td>Files / Office Items</td>\n",
       "      <td>4.234080</td>\n",
       "      <td>24</td>\n",
       "      <td>29</td>\n",
       "    </tr>\n",
       "    <tr>\n",
       "      <th>30</th>\n",
       "      <td>2800</td>\n",
       "      <td>105030</td>\n",
       "      <td>25</td>\n",
       "      <td>True</td>\n",
       "      <td>2012-11-11 20:59:47.000</td>\n",
       "      <td>2012-11-11 23:21:41.000</td>\n",
       "      <td>NaT</td>\n",
       "      <td>First Month Half Off</td>\n",
       "      <td>Sales Center Reservation</td>\n",
       "      <td>75.6</td>\n",
       "      <td>84.0</td>\n",
       "      <td>-0.1</td>\n",
       "      <td>Ohio</td>\n",
       "      <td>No</td>\n",
       "      <td>Moving (includes college &amp; military deployment)</td>\n",
       "      <td>Furniture / Household goods / Appliances</td>\n",
       "      <td>4.392319</td>\n",
       "      <td>24</td>\n",
       "      <td>29</td>\n",
       "    </tr>\n",
       "    <tr>\n",
       "      <th>40</th>\n",
       "      <td>2870</td>\n",
       "      <td>105040</td>\n",
       "      <td>50</td>\n",
       "      <td>True</td>\n",
       "      <td>2012-11-11 22:09:59.000</td>\n",
       "      <td>2012-11-12 02:53:37.000</td>\n",
       "      <td>NaT</td>\n",
       "      <td>First Month Free</td>\n",
       "      <td>Sales Center Reservation</td>\n",
       "      <td>34.2</td>\n",
       "      <td>38.0</td>\n",
       "      <td>-0.1</td>\n",
       "      <td>New York / Northern NJ</td>\n",
       "      <td>Yes</td>\n",
       "      <td>Recently Acquired Items (inheritance, purchase...</td>\n",
       "      <td>Files / Office Items</td>\n",
       "      <td>4.617081</td>\n",
       "      <td>24</td>\n",
       "      <td>29</td>\n",
       "    </tr>\n",
       "    <tr>\n",
       "      <th>42</th>\n",
       "      <td>2725</td>\n",
       "      <td>105042</td>\n",
       "      <td>100</td>\n",
       "      <td>True</td>\n",
       "      <td>2012-11-11 22:18:43.000</td>\n",
       "      <td>2012-11-11 23:03:57.000</td>\n",
       "      <td>NaT</td>\n",
       "      <td>First Month Half Off</td>\n",
       "      <td>Sales Center Reservation</td>\n",
       "      <td>125.1</td>\n",
       "      <td>139.0</td>\n",
       "      <td>-0.1</td>\n",
       "      <td>Southern California</td>\n",
       "      <td>No</td>\n",
       "      <td>Organizing / Creating More Living Space</td>\n",
       "      <td>Other</td>\n",
       "      <td>4.135700</td>\n",
       "      <td>24</td>\n",
       "      <td>29</td>\n",
       "    </tr>\n",
       "  </tbody>\n",
       "</table>\n",
       "</div>"
      ],
      "text/plain": [
       "    Store  Account ID  SquareFeet  Rented?             ReserveDate  \\\n",
       "3    1615      105003         300     True 2012-11-11 17:05:25.627   \n",
       "24   2715      105024          25     True 2012-11-11 20:32:25.000   \n",
       "30   2800      105030          25     True 2012-11-11 20:59:47.000   \n",
       "40   2870      105040          50     True 2012-11-11 22:09:59.000   \n",
       "42   2725      105042         100     True 2012-11-11 22:18:43.000   \n",
       "\n",
       "              Move In Date Move Out Date        Promotion Name  \\\n",
       "3  2012-11-11 17:05:27.627           NaT                   NaN   \n",
       "24 2012-11-12 02:42:42.000           NaT      First Month Free   \n",
       "30 2012-11-11 23:21:41.000           NaT  First Month Half Off   \n",
       "40 2012-11-12 02:53:37.000           NaT      First Month Free   \n",
       "42 2012-11-11 23:03:57.000           NaT  First Month Half Off   \n",
       "\n",
       "                      Source  RentRate  StreetRate  Concession  \\\n",
       "3            Web Reservation     224.0       224.0         0.0   \n",
       "24  Sales Center Reservation      58.0        58.0         0.0   \n",
       "30  Sales Center Reservation      75.6        84.0        -0.1   \n",
       "40  Sales Center Reservation      34.2        38.0        -0.1   \n",
       "42  Sales Center Reservation     125.1       139.0        -0.1   \n",
       "\n",
       "                    Region Previously Used Storage?  \\\n",
       "3            Inland Empire                       No   \n",
       "24          Baltimore / DC                      Yes   \n",
       "30                    Ohio                       No   \n",
       "40  New York / Northern NJ                      Yes   \n",
       "42     Southern California                       No   \n",
       "\n",
       "                                             Purpose?  \\\n",
       "3                                               Other   \n",
       "24                                              Other   \n",
       "30    Moving (includes college & military deployment)   \n",
       "40  Recently Acquired Items (inheritance, purchase...   \n",
       "42            Organizing / Creating More Living Space   \n",
       "\n",
       "                              Storage Reason  predicted_stay_by_model  \\\n",
       "3                                      Other                 5.271033   \n",
       "24                      Files / Office Items                 4.234080   \n",
       "30  Furniture / Household goods / Appliances                 4.392319   \n",
       "40                      Files / Office Items                 4.617081   \n",
       "42                                     Other                 4.135700   \n",
       "\n",
       "    stayed_already  Length_of_stay  \n",
       "3               24              30  \n",
       "24              24              29  \n",
       "30              24              29  \n",
       "40              24              29  \n",
       "42              24              29  "
      ]
     },
     "execution_count": 77,
     "metadata": {},
     "output_type": "execute_result"
    }
   ],
   "source": [
    "dataset_Rented_True_known_stayunknown.head()"
   ]
  },
  {
   "cell_type": "code",
   "execution_count": 78,
   "metadata": {},
   "outputs": [],
   "source": [
    "# Dropping extra columns\n",
    "dataset_Rented_True_known_stayunknown = dataset_Rented_True_known_stayunknown.drop(['predicted_stay_by_model','stayed_already'],axis=1)"
   ]
  },
  {
   "cell_type": "code",
   "execution_count": 79,
   "metadata": {},
   "outputs": [
    {
     "data": {
      "text/plain": [
       "((21367, 17), (15321, 17))"
      ]
     },
     "execution_count": 79,
     "metadata": {},
     "output_type": "execute_result"
    }
   ],
   "source": [
    "dataset_Rented_True_known_stayunknown.shape, dataset_Rented_True_known_stayknown.shape"
   ]
  },
  {
   "cell_type": "markdown",
   "metadata": {},
   "source": [
    "Now we can combine both data set as we know length of stay for each observation within rental-converted data"
   ]
  },
  {
   "cell_type": "code",
   "execution_count": 80,
   "metadata": {},
   "outputs": [],
   "source": [
    "dataset_combined_for_rented  =  pd.concat ([dataset_Rented_True_known_stayknown, dataset_Rented_True_known_stayunknown], axis=0)"
   ]
  },
  {
   "cell_type": "markdown",
   "metadata": {},
   "source": [
    "# Question 1"
   ]
  },
  {
   "cell_type": "code",
   "execution_count": 81,
   "metadata": {},
   "outputs": [],
   "source": [
    "def cost_per_observation(x):\n",
    "    \n",
    "    if pd.isnull(x['Promotion Name']):\n",
    "        return 0\n",
    "    if x['Promotion Name'] =='First Month Free':\n",
    "        return x['RentRate']\n",
    "    if x['Promotion Name'] =='First Month Half Off':\n",
    "        return  x['RentRate']/2\n",
    "    if x['Promotion Name'] =='Two Months Free':\n",
    "        if x['Length_of_stay']>1:\n",
    "            return  2*x['RentRate']\n",
    "        else:\n",
    "            return  x['RentRate']\n",
    "\n",
    "    if x['Promotion Name'] =='Two Months Half Off': \n",
    "        if x['Length_of_stay']>=2:\n",
    "            return  x['RentRate']\n",
    "        else :\n",
    "            return  x['RentRate']/2\n",
    "        \n",
    "    if x['Promotion Name'] =='Three Months Half off':\n",
    "        if x['Length_of_stay']>=3:\n",
    "            return  3*x['RentRate']/2\n",
    "        elif x['Length_of_stay']==2:\n",
    "            return x['RentRate']\n",
    "        else:\n",
    "            return x['RentRate']/2"
   ]
  },
  {
   "cell_type": "markdown",
   "metadata": {},
   "source": [
    "Above function will return cost of promotion for each observation based on Type of promotion and Length of stay. We assumed that customer will at start of each month depending upon type of promotion. E.g. Three Months Half Off means he will pay half of rent for fist 3 months"
   ]
  },
  {
   "cell_type": "code",
   "execution_count": 82,
   "metadata": {},
   "outputs": [],
   "source": [
    "dataset_combined_for_rented['cost_by_company'] = dataset_combined_for_rented.apply(cost_per_observation,axis=1)"
   ]
  },
  {
   "cell_type": "code",
   "execution_count": 83,
   "metadata": {},
   "outputs": [
    {
     "data": {
      "text/html": [
       "<div>\n",
       "<style scoped>\n",
       "    .dataframe tbody tr th:only-of-type {\n",
       "        vertical-align: middle;\n",
       "    }\n",
       "\n",
       "    .dataframe tbody tr th {\n",
       "        vertical-align: top;\n",
       "    }\n",
       "\n",
       "    .dataframe thead th {\n",
       "        text-align: right;\n",
       "    }\n",
       "</style>\n",
       "<table border=\"1\" class=\"dataframe\">\n",
       "  <thead>\n",
       "    <tr style=\"text-align: right;\">\n",
       "      <th></th>\n",
       "      <th>Store</th>\n",
       "      <th>Account ID</th>\n",
       "      <th>SquareFeet</th>\n",
       "      <th>Rented?</th>\n",
       "      <th>ReserveDate</th>\n",
       "      <th>Move In Date</th>\n",
       "      <th>Move Out Date</th>\n",
       "      <th>Promotion Name</th>\n",
       "      <th>Source</th>\n",
       "      <th>RentRate</th>\n",
       "      <th>StreetRate</th>\n",
       "      <th>Concession</th>\n",
       "      <th>Region</th>\n",
       "      <th>Previously Used Storage?</th>\n",
       "      <th>Purpose?</th>\n",
       "      <th>Storage Reason</th>\n",
       "      <th>Length_of_stay</th>\n",
       "      <th>cost_by_company</th>\n",
       "    </tr>\n",
       "  </thead>\n",
       "  <tbody>\n",
       "    <tr>\n",
       "      <th>8</th>\n",
       "      <td>3110</td>\n",
       "      <td>105008</td>\n",
       "      <td>50</td>\n",
       "      <td>True</td>\n",
       "      <td>2012-11-11 18:04:13.000</td>\n",
       "      <td>2012-11-11 23:55:14.000</td>\n",
       "      <td>2013-02-07 17:32:44.000</td>\n",
       "      <td>First Month Half Off</td>\n",
       "      <td>Sales Center Reservation</td>\n",
       "      <td>53.1</td>\n",
       "      <td>59.0</td>\n",
       "      <td>-0.1</td>\n",
       "      <td>Colorado / Utah</td>\n",
       "      <td>No</td>\n",
       "      <td>Other</td>\n",
       "      <td>Other</td>\n",
       "      <td>3</td>\n",
       "      <td>26.55</td>\n",
       "    </tr>\n",
       "    <tr>\n",
       "      <th>10</th>\n",
       "      <td>3325</td>\n",
       "      <td>105010</td>\n",
       "      <td>50</td>\n",
       "      <td>True</td>\n",
       "      <td>2012-11-11 18:16:15.434</td>\n",
       "      <td>2012-11-17 18:17:43.434</td>\n",
       "      <td>2013-10-20 20:30:31.109</td>\n",
       "      <td>NaN</td>\n",
       "      <td>Sales Center Reservation</td>\n",
       "      <td>115.0</td>\n",
       "      <td>115.0</td>\n",
       "      <td>0.0</td>\n",
       "      <td>Florida Markets - Other</td>\n",
       "      <td>Yes</td>\n",
       "      <td>Other</td>\n",
       "      <td>Other</td>\n",
       "      <td>12</td>\n",
       "      <td>0.00</td>\n",
       "    </tr>\n",
       "    <tr>\n",
       "      <th>17</th>\n",
       "      <td>2570</td>\n",
       "      <td>105017</td>\n",
       "      <td>100</td>\n",
       "      <td>True</td>\n",
       "      <td>2012-11-11 19:37:59.000</td>\n",
       "      <td>2012-12-09 03:16:10.000</td>\n",
       "      <td>2013-05-17 17:02:35.500</td>\n",
       "      <td>First Month Free</td>\n",
       "      <td>Sales Center Reservation</td>\n",
       "      <td>56.7</td>\n",
       "      <td>63.0</td>\n",
       "      <td>-0.1</td>\n",
       "      <td>Other Southeast</td>\n",
       "      <td>No</td>\n",
       "      <td>Organizing / Creating More Living Space</td>\n",
       "      <td>Files / Office Items</td>\n",
       "      <td>6</td>\n",
       "      <td>56.70</td>\n",
       "    </tr>\n",
       "    <tr>\n",
       "      <th>27</th>\n",
       "      <td>1520</td>\n",
       "      <td>105027</td>\n",
       "      <td>0</td>\n",
       "      <td>True</td>\n",
       "      <td>2012-11-11 20:44:19.856</td>\n",
       "      <td>2012-11-13 00:30:45.856</td>\n",
       "      <td>2013-04-15 19:15:03.214</td>\n",
       "      <td>NaN</td>\n",
       "      <td>Web Reservation</td>\n",
       "      <td>94.0</td>\n",
       "      <td>94.0</td>\n",
       "      <td>0.0</td>\n",
       "      <td>New York / Northern NJ</td>\n",
       "      <td>No</td>\n",
       "      <td>Other</td>\n",
       "      <td>Files / Office Items</td>\n",
       "      <td>6</td>\n",
       "      <td>0.00</td>\n",
       "    </tr>\n",
       "    <tr>\n",
       "      <th>39</th>\n",
       "      <td>3090</td>\n",
       "      <td>105039</td>\n",
       "      <td>50</td>\n",
       "      <td>True</td>\n",
       "      <td>2012-11-11 22:04:15.000</td>\n",
       "      <td>2012-11-11 22:58:30.000</td>\n",
       "      <td>2012-12-11 09:01:07.500</td>\n",
       "      <td>First Month Free</td>\n",
       "      <td>Store Reservation</td>\n",
       "      <td>35.1</td>\n",
       "      <td>39.0</td>\n",
       "      <td>-0.1</td>\n",
       "      <td>Colorado / Utah</td>\n",
       "      <td>No</td>\n",
       "      <td>Organizing / Creating More Living Space</td>\n",
       "      <td>Files / Office Items</td>\n",
       "      <td>1</td>\n",
       "      <td>35.10</td>\n",
       "    </tr>\n",
       "  </tbody>\n",
       "</table>\n",
       "</div>"
      ],
      "text/plain": [
       "    Store  Account ID  SquareFeet  Rented?             ReserveDate  \\\n",
       "8    3110      105008          50     True 2012-11-11 18:04:13.000   \n",
       "10   3325      105010          50     True 2012-11-11 18:16:15.434   \n",
       "17   2570      105017         100     True 2012-11-11 19:37:59.000   \n",
       "27   1520      105027           0     True 2012-11-11 20:44:19.856   \n",
       "39   3090      105039          50     True 2012-11-11 22:04:15.000   \n",
       "\n",
       "              Move In Date           Move Out Date        Promotion Name  \\\n",
       "8  2012-11-11 23:55:14.000 2013-02-07 17:32:44.000  First Month Half Off   \n",
       "10 2012-11-17 18:17:43.434 2013-10-20 20:30:31.109                   NaN   \n",
       "17 2012-12-09 03:16:10.000 2013-05-17 17:02:35.500      First Month Free   \n",
       "27 2012-11-13 00:30:45.856 2013-04-15 19:15:03.214                   NaN   \n",
       "39 2012-11-11 22:58:30.000 2012-12-11 09:01:07.500      First Month Free   \n",
       "\n",
       "                      Source  RentRate  StreetRate  Concession  \\\n",
       "8   Sales Center Reservation      53.1        59.0        -0.1   \n",
       "10  Sales Center Reservation     115.0       115.0         0.0   \n",
       "17  Sales Center Reservation      56.7        63.0        -0.1   \n",
       "27           Web Reservation      94.0        94.0         0.0   \n",
       "39         Store Reservation      35.1        39.0        -0.1   \n",
       "\n",
       "                     Region Previously Used Storage?  \\\n",
       "8           Colorado / Utah                       No   \n",
       "10  Florida Markets - Other                      Yes   \n",
       "17          Other Southeast                       No   \n",
       "27   New York / Northern NJ                       No   \n",
       "39          Colorado / Utah                       No   \n",
       "\n",
       "                                   Purpose?        Storage Reason  \\\n",
       "8                                     Other                 Other   \n",
       "10                                    Other                 Other   \n",
       "17  Organizing / Creating More Living Space  Files / Office Items   \n",
       "27                                    Other  Files / Office Items   \n",
       "39  Organizing / Creating More Living Space  Files / Office Items   \n",
       "\n",
       "    Length_of_stay  cost_by_company  \n",
       "8                3            26.55  \n",
       "10              12             0.00  \n",
       "17               6            56.70  \n",
       "27               6             0.00  \n",
       "39               1            35.10  "
      ]
     },
     "execution_count": 83,
     "metadata": {},
     "output_type": "execute_result"
    }
   ],
   "source": [
    "dataset_combined_for_rented.head()"
   ]
  },
  {
   "cell_type": "markdown",
   "metadata": {},
   "source": [
    "Total cost incurred by company in Promotions is sum over all these rows, as non-promotion has 0 cost"
   ]
  },
  {
   "cell_type": "code",
   "execution_count": 84,
   "metadata": {},
   "outputs": [],
   "source": [
    "total_cost_by_company = np.sum(dataset_combined_for_rented['cost_by_company'])"
   ]
  },
  {
   "cell_type": "code",
   "execution_count": 85,
   "metadata": {},
   "outputs": [
    {
     "data": {
      "text/plain": [
       "2223112.005"
      ]
     },
     "execution_count": 85,
     "metadata": {},
     "output_type": "execute_result"
    }
   ],
   "source": [
    "total_cost_by_company"
   ]
  },
  {
   "cell_type": "markdown",
   "metadata": {},
   "source": [
    "As Length of stay is not the number of months customer pays for storage, I am defining a new variable 'Pay Period' which subtracts effective free number of months from Length of stay to help us calculate revenue for each observation.\n",
    "\n",
    "Pay Period also uses Promotion type and Length of stay to get final effective pay months.Pay Period can be fractional as well for First Month Half Off, Two Months Half Off and Three Months Half off"
   ]
  },
  {
   "cell_type": "code",
   "execution_count": 86,
   "metadata": {},
   "outputs": [],
   "source": [
    "def payPeriod_per_observation(x):\n",
    "    \n",
    "    if pd.isnull(x['Promotion Name']):\n",
    "        return x['Length_of_stay']\n",
    "    if x['Promotion Name'] =='First Month Free':\n",
    "        return x['Length_of_stay'] -1\n",
    "    if x['Promotion Name'] =='First Month Half Off':\n",
    "        return  x['Length_of_stay'] -0.5\n",
    "    if x['Promotion Name'] =='Two Months Free':\n",
    "        if x['Length_of_stay']>1:\n",
    "            return  x['Length_of_stay'] -2\n",
    "        else:\n",
    "            return  0\n",
    "    if x['Promotion Name'] =='Two Months Half Off': \n",
    "        if x['Length_of_stay']>=2:\n",
    "            return  x['Length_of_stay'] -1\n",
    "        else :\n",
    "            return  0.5\n",
    "        \n",
    "    if x['Promotion Name'] =='Three Months Half off':\n",
    "        if x['Length_of_stay']>=3:\n",
    "            return  x['Length_of_stay'] -1.5\n",
    "        elif x['Length_of_stay']==2:\n",
    "            return 1\n",
    "        else:\n",
    "            return 0.5"
   ]
  },
  {
   "cell_type": "code",
   "execution_count": 87,
   "metadata": {},
   "outputs": [],
   "source": [
    "dataset_combined_for_rented['PayPeriod'] = dataset_combined_for_rented.apply(payPeriod_per_observation,axis=1)"
   ]
  },
  {
   "cell_type": "code",
   "execution_count": 88,
   "metadata": {},
   "outputs": [],
   "source": [
    "promotion_rented_dataset = dataset_combined_for_rented[~pd.isnull(dataset_combined_for_rented['Promotion Name'])]"
   ]
  },
  {
   "cell_type": "markdown",
   "metadata": {},
   "source": [
    "promotion_rented_dataset is data for which clients were given promotion and got converted to Rentals"
   ]
  },
  {
   "cell_type": "code",
   "execution_count": 89,
   "metadata": {},
   "outputs": [
    {
     "data": {
      "text/plain": [
       "2223112.005"
      ]
     },
     "execution_count": 89,
     "metadata": {},
     "output_type": "execute_result"
    }
   ],
   "source": [
    "np.sum(promotion_rented_dataset['cost_by_company'])"
   ]
  },
  {
   "cell_type": "code",
   "execution_count": 90,
   "metadata": {},
   "outputs": [
    {
     "data": {
      "text/plain": [
       "((25410, 19), (36688, 19))"
      ]
     },
     "execution_count": 90,
     "metadata": {},
     "output_type": "execute_result"
    }
   ],
   "source": [
    "promotion_rented_dataset.shape, dataset_combined_for_rented.shape"
   ]
  },
  {
   "cell_type": "code",
   "execution_count": 91,
   "metadata": {},
   "outputs": [
    {
     "data": {
      "text/plain": [
       "<matplotlib.axes._subplots.AxesSubplot at 0x1bc53a27940>"
      ]
     },
     "execution_count": 91,
     "metadata": {},
     "output_type": "execute_result"
    },
    {
     "data": {
      "image/png": "[encoded data removed]",
      "text/plain": [
       "<Figure size 432x288 with 1 Axes>"
      ]
     },
     "metadata": {},
     "output_type": "display_data"
    }
   ],
   "source": [
    "dataset_combined_for_rented['Length_of_stay'].hist()"
   ]
  },
  {
   "cell_type": "markdown",
   "metadata": {},
   "source": [
    "Total_cost_by_company = Extra Rental Required  $* avg Rental Rate *$  avg Pay Period(in months)"
   ]
  },
  {
   "cell_type": "code",
   "execution_count": 92,
   "metadata": {},
   "outputs": [],
   "source": [
    "# Getting average values\n",
    "avg_price = np.mean(promotion_rented_dataset['RentRate'])\n",
    "avg_Pay_period = np.mean(promotion_rented_dataset['PayPeriod'])"
   ]
  },
  {
   "cell_type": "code",
   "execution_count": 93,
   "metadata": {},
   "outputs": [],
   "source": [
    "# Using formula above to get additional rentals needed\n",
    "Extra_rental_volume =  total_cost_by_company/(avg_price *avg_Pay_period )"
   ]
  },
  {
   "cell_type": "code",
   "execution_count": 94,
   "metadata": {},
   "outputs": [
    {
     "data": {
      "text/plain": [
       "1966.486678220522"
      ]
     },
     "execution_count": 94,
     "metadata": {},
     "output_type": "execute_result"
    }
   ],
   "source": [
    "Extra_rental_volume"
   ]
  },
  {
   "cell_type": "code",
   "execution_count": 95,
   "metadata": {},
   "outputs": [
    {
     "data": {
      "text/plain": [
       "(93.37989334907024, 12.106454151908697)"
      ]
     },
     "execution_count": 95,
     "metadata": {},
     "output_type": "execute_result"
    }
   ],
   "source": [
    "avg_price, avg_Pay_period"
   ]
  },
  {
   "cell_type": "markdown",
   "metadata": {},
   "source": [
    "We will need additional 1967 people who pays rent of 93.38 for a period of 12 months to recover this free promotion"
   ]
  },
  {
   "cell_type": "markdown",
   "metadata": {},
   "source": [
    "Assuming uniform conversion along the observations, Rent ratio is number of request converted to rental against total requests"
   ]
  },
  {
   "cell_type": "code",
   "execution_count": 96,
   "metadata": {},
   "outputs": [],
   "source": [
    "Rent_ratio =  dataset_date_filtered[dataset_date_filtered['Rented?']==True].shape[0]/ dataset_date_filtered.shape[0]"
   ]
  },
  {
   "cell_type": "code",
   "execution_count": 97,
   "metadata": {},
   "outputs": [
    {
     "data": {
      "text/plain": [
       "0.6254560332776433"
      ]
     },
     "execution_count": 97,
     "metadata": {},
     "output_type": "execute_result"
    }
   ],
   "source": [
    "Rent_ratio"
   ]
  },
  {
   "cell_type": "code",
   "execution_count": 98,
   "metadata": {},
   "outputs": [],
   "source": [
    "Extra_Reservation_Volume = Extra_rental_volume/Rent_ratio"
   ]
  },
  {
   "cell_type": "code",
   "execution_count": 99,
   "metadata": {},
   "outputs": [
    {
     "data": {
      "text/plain": [
       "3144.0845936289625"
      ]
     },
     "execution_count": 99,
     "metadata": {},
     "output_type": "execute_result"
    }
   ],
   "source": [
    "Extra_Reservation_Volume"
   ]
  },
  {
   "cell_type": "markdown",
   "metadata": {},
   "source": [
    " So , we need to book 3145 more reservation to cover up the cost of promotion"
   ]
  },
  {
   "cell_type": "markdown",
   "metadata": {},
   "source": [
    " # Question 2"
   ]
  },
  {
   "cell_type": "markdown",
   "metadata": {},
   "source": [
    "# does giving promotion make sense overall?"
   ]
  },
  {
   "cell_type": "code",
   "execution_count": 100,
   "metadata": {},
   "outputs": [],
   "source": [
    "NonPromotion_rented_dataset = dataset_combined_for_rented[pd.isnull(dataset_combined_for_rented['Promotion Name'])]"
   ]
  },
  {
   "cell_type": "markdown",
   "metadata": {},
   "source": [
    "NonPromotion_rented_dataset is data for which no promotion was given and converted to rentals"
   ]
  },
  {
   "cell_type": "markdown",
   "metadata": {},
   "source": [
    "Revenue = Rent Rate * Pay Period"
   ]
  },
  {
   "cell_type": "code",
   "execution_count": 101,
   "metadata": {},
   "outputs": [],
   "source": [
    "promotion_rented_dataset['Revenue_per_customer'] = promotion_rented_dataset['RentRate'] * promotion_rented_dataset['PayPeriod']"
   ]
  },
  {
   "cell_type": "code",
   "execution_count": 102,
   "metadata": {},
   "outputs": [],
   "source": [
    "NonPromotion_rented_dataset['Revenue_per_customer'] = NonPromotion_rented_dataset['RentRate'] * NonPromotion_rented_dataset['PayPeriod']"
   ]
  },
  {
   "cell_type": "code",
   "execution_count": 103,
   "metadata": {},
   "outputs": [],
   "source": [
    "Total_revenue_Promotion = np.sum(promotion_rented_dataset['Revenue_per_customer'])"
   ]
  },
  {
   "cell_type": "code",
   "execution_count": 104,
   "metadata": {},
   "outputs": [],
   "source": [
    "Total_revenue_NonPromotion = np.sum(NonPromotion_rented_dataset['Revenue_per_customer'])"
   ]
  },
  {
   "cell_type": "code",
   "execution_count": 105,
   "metadata": {},
   "outputs": [
    {
     "data": {
      "text/plain": [
       "(27994928.355, 17638648.72)"
      ]
     },
     "execution_count": 105,
     "metadata": {},
     "output_type": "execute_result"
    }
   ],
   "source": [
    "Total_revenue_Promotion , Total_revenue_NonPromotion"
   ]
  },
  {
   "cell_type": "markdown",
   "metadata": {},
   "source": [
    "Total_revenue_Promotion > Total_revenue_NonPromotion\n",
    "\n",
    "So, company is generating additional revenue using promotion"
   ]
  },
  {
   "cell_type": "code",
   "execution_count": 106,
   "metadata": {},
   "outputs": [],
   "source": [
    "Incremental_Revenue_by_Promotion = Total_revenue_Promotion - Total_revenue_NonPromotion"
   ]
  },
  {
   "cell_type": "code",
   "execution_count": 107,
   "metadata": {},
   "outputs": [
    {
     "data": {
      "text/plain": [
       "10356279.635000002"
      ]
     },
     "execution_count": 107,
     "metadata": {},
     "output_type": "execute_result"
    }
   ],
   "source": [
    "Incremental_Revenue_by_Promotion"
   ]
  },
  {
   "cell_type": "markdown",
   "metadata": {},
   "source": [
    "But, is it justified to give promotions to these many customers? Can we predict based on customer attributes whether company should give promotion or not to that customer?\n",
    "\n",
    "Let's define a binary variable assessing if a customer is sticky to a place or not?\n"
   ]
  },
  {
   "cell_type": "markdown",
   "metadata": {},
   "source": [
    "# Finding sticky and non-sticky customers"
   ]
  },
  {
   "cell_type": "markdown",
   "metadata": {},
   "source": [
    "The customer who did not use promotion and rented the storage are sticky while customers who used promotion and left immediately using free storage are non-sticky.\n",
    "\n",
    "We can identify non-sticky customer directly by ones having PayPeriod 0. "
   ]
  },
  {
   "cell_type": "code",
   "execution_count": 108,
   "metadata": {},
   "outputs": [
    {
     "data": {
      "text/plain": [
       "1132"
      ]
     },
     "execution_count": 108,
     "metadata": {},
     "output_type": "execute_result"
    }
   ],
   "source": [
    "np.sum(dataset_combined_for_rented['PayPeriod']==0)"
   ]
  },
  {
   "cell_type": "code",
   "execution_count": 109,
   "metadata": {},
   "outputs": [
    {
     "data": {
      "text/plain": [
       "(11278, 20)"
      ]
     },
     "execution_count": 109,
     "metadata": {},
     "output_type": "execute_result"
    }
   ],
   "source": [
    "NonPromotion_rented_dataset.shape"
   ]
  },
  {
   "cell_type": "code",
   "execution_count": 110,
   "metadata": {},
   "outputs": [],
   "source": [
    "non_sticky = dataset_combined_for_rented[dataset_combined_for_rented['PayPeriod']==0][['SquareFeet','PayPeriod','Source','RentRate','Concession','Region','Previously Used Storage?','Purpose?','Storage Reason']]"
   ]
  },
  {
   "cell_type": "code",
   "execution_count": 111,
   "metadata": {},
   "outputs": [],
   "source": [
    "non_sticky['is_sticky'] = 0"
   ]
  },
  {
   "cell_type": "code",
   "execution_count": 112,
   "metadata": {},
   "outputs": [],
   "source": [
    "sticky = NonPromotion_rented_dataset[['SquareFeet','PayPeriod','Source','RentRate','Concession','Region','Previously Used Storage?','Purpose?','Storage Reason']]"
   ]
  },
  {
   "cell_type": "code",
   "execution_count": 113,
   "metadata": {},
   "outputs": [],
   "source": [
    "sticky['is_sticky'] = 1"
   ]
  },
  {
   "cell_type": "code",
   "execution_count": 114,
   "metadata": {},
   "outputs": [
    {
     "data": {
      "text/html": [
       "<div>\n",
       "<style scoped>\n",
       "    .dataframe tbody tr th:only-of-type {\n",
       "        vertical-align: middle;\n",
       "    }\n",
       "\n",
       "    .dataframe tbody tr th {\n",
       "        vertical-align: top;\n",
       "    }\n",
       "\n",
       "    .dataframe thead th {\n",
       "        text-align: right;\n",
       "    }\n",
       "</style>\n",
       "<table border=\"1\" class=\"dataframe\">\n",
       "  <thead>\n",
       "    <tr style=\"text-align: right;\">\n",
       "      <th></th>\n",
       "      <th>SquareFeet</th>\n",
       "      <th>PayPeriod</th>\n",
       "      <th>Source</th>\n",
       "      <th>RentRate</th>\n",
       "      <th>Concession</th>\n",
       "      <th>Region</th>\n",
       "      <th>Previously Used Storage?</th>\n",
       "      <th>Purpose?</th>\n",
       "      <th>Storage Reason</th>\n",
       "      <th>is_sticky</th>\n",
       "    </tr>\n",
       "  </thead>\n",
       "  <tbody>\n",
       "    <tr>\n",
       "      <th>10</th>\n",
       "      <td>50</td>\n",
       "      <td>12.0</td>\n",
       "      <td>Sales Center Reservation</td>\n",
       "      <td>115.0</td>\n",
       "      <td>0.0</td>\n",
       "      <td>Florida Markets - Other</td>\n",
       "      <td>Yes</td>\n",
       "      <td>Other</td>\n",
       "      <td>Other</td>\n",
       "      <td>1</td>\n",
       "    </tr>\n",
       "    <tr>\n",
       "      <th>27</th>\n",
       "      <td>0</td>\n",
       "      <td>6.0</td>\n",
       "      <td>Web Reservation</td>\n",
       "      <td>94.0</td>\n",
       "      <td>0.0</td>\n",
       "      <td>New York / Northern NJ</td>\n",
       "      <td>No</td>\n",
       "      <td>Other</td>\n",
       "      <td>Files / Office Items</td>\n",
       "      <td>1</td>\n",
       "    </tr>\n",
       "    <tr>\n",
       "      <th>43</th>\n",
       "      <td>0</td>\n",
       "      <td>5.0</td>\n",
       "      <td>Store Reservation</td>\n",
       "      <td>36.0</td>\n",
       "      <td>-0.2</td>\n",
       "      <td>Inland Empire</td>\n",
       "      <td>Yes</td>\n",
       "      <td>Recently Acquired Items (inheritance, purchase...</td>\n",
       "      <td>Business Inventory / Product</td>\n",
       "      <td>1</td>\n",
       "    </tr>\n",
       "    <tr>\n",
       "      <th>59</th>\n",
       "      <td>90</td>\n",
       "      <td>4.0</td>\n",
       "      <td>Web Reservation</td>\n",
       "      <td>121.0</td>\n",
       "      <td>0.0</td>\n",
       "      <td>Inland Empire</td>\n",
       "      <td>No</td>\n",
       "      <td>Organizing / Creating More Living Space</td>\n",
       "      <td>Other</td>\n",
       "      <td>1</td>\n",
       "    </tr>\n",
       "    <tr>\n",
       "      <th>110</th>\n",
       "      <td>100</td>\n",
       "      <td>7.0</td>\n",
       "      <td>Store Reservation</td>\n",
       "      <td>98.4</td>\n",
       "      <td>-0.2</td>\n",
       "      <td>Inland Empire</td>\n",
       "      <td>Yes</td>\n",
       "      <td>Organizing / Creating More Living Space</td>\n",
       "      <td>Other</td>\n",
       "      <td>1</td>\n",
       "    </tr>\n",
       "  </tbody>\n",
       "</table>\n",
       "</div>"
      ],
      "text/plain": [
       "     SquareFeet  PayPeriod                    Source  RentRate  Concession  \\\n",
       "10           50       12.0  Sales Center Reservation     115.0         0.0   \n",
       "27            0        6.0           Web Reservation      94.0         0.0   \n",
       "43            0        5.0         Store Reservation      36.0        -0.2   \n",
       "59           90        4.0           Web Reservation     121.0         0.0   \n",
       "110         100        7.0         Store Reservation      98.4        -0.2   \n",
       "\n",
       "                      Region Previously Used Storage?  \\\n",
       "10   Florida Markets - Other                      Yes   \n",
       "27    New York / Northern NJ                       No   \n",
       "43             Inland Empire                      Yes   \n",
       "59             Inland Empire                       No   \n",
       "110            Inland Empire                      Yes   \n",
       "\n",
       "                                              Purpose?  \\\n",
       "10                                               Other   \n",
       "27                                               Other   \n",
       "43   Recently Acquired Items (inheritance, purchase...   \n",
       "59             Organizing / Creating More Living Space   \n",
       "110            Organizing / Creating More Living Space   \n",
       "\n",
       "                   Storage Reason  is_sticky  \n",
       "10                          Other          1  \n",
       "27           Files / Office Items          1  \n",
       "43   Business Inventory / Product          1  \n",
       "59                          Other          1  \n",
       "110                         Other          1  "
      ]
     },
     "execution_count": 114,
     "metadata": {},
     "output_type": "execute_result"
    }
   ],
   "source": [
    "sticky.head()"
   ]
  },
  {
   "cell_type": "markdown",
   "metadata": {},
   "source": [
    "Shuffling the data to make sure there is no pattern"
   ]
  },
  {
   "cell_type": "code",
   "execution_count": 116,
   "metadata": {},
   "outputs": [],
   "source": [
    "Stick_Check_Data = shuffle(pd.concat([non_sticky,sticky],axis=0))"
   ]
  },
  {
   "cell_type": "code",
   "execution_count": 117,
   "metadata": {},
   "outputs": [
    {
     "data": {
      "text/plain": [
       "(12410, 10)"
      ]
     },
     "execution_count": 117,
     "metadata": {},
     "output_type": "execute_result"
    }
   ],
   "source": [
    "Stick_Check_Data.shape"
   ]
  },
  {
   "cell_type": "code",
   "execution_count": 118,
   "metadata": {},
   "outputs": [],
   "source": [
    "s_Features = Stick_Check_Data.drop('is_sticky',axis=1)"
   ]
  },
  {
   "cell_type": "code",
   "execution_count": 119,
   "metadata": {},
   "outputs": [],
   "source": [
    "s_Features_dummies = pd.get_dummies(s_Features)"
   ]
  },
  {
   "cell_type": "code",
   "execution_count": 120,
   "metadata": {},
   "outputs": [],
   "source": [
    "s_X_train, s_X_val, s_Y_train, s_Y_val = train_test_split(s_Features_dummies,Stick_Check_Data['is_sticky'], test_size=0.10 )"
   ]
  },
  {
   "cell_type": "markdown",
   "metadata": {},
   "source": [
    "Using logistic Regression with penalty as train size is relatively less to avoid overfitting"
   ]
  },
  {
   "cell_type": "code",
   "execution_count": 121,
   "metadata": {},
   "outputs": [],
   "source": [
    "lg_model = LogisticRegression(class_weight  = 'balanced', C=0.1)"
   ]
  },
  {
   "cell_type": "code",
   "execution_count": 122,
   "metadata": {},
   "outputs": [
    {
     "data": {
      "text/plain": [
       "LogisticRegression(C=0.1, class_weight='balanced', dual=False,\n",
       "          fit_intercept=True, intercept_scaling=1, max_iter=100,\n",
       "          multi_class='warn', n_jobs=None, penalty='l2', random_state=None,\n",
       "          solver='warn', tol=0.0001, verbose=0, warm_start=False)"
      ]
     },
     "execution_count": 122,
     "metadata": {},
     "output_type": "execute_result"
    }
   ],
   "source": [
    "lg_model.fit(s_X_train,s_Y_train )"
   ]
  },
  {
   "cell_type": "code",
   "execution_count": 123,
   "metadata": {},
   "outputs": [],
   "source": [
    "# The function will give p value for estimators\n",
    "def logit_pvalue(model, x):\n",
    "\n",
    "    p = model.predict_proba(x)\n",
    "    n = len(p)\n",
    "    m = len(model.coef_[0]) + 1\n",
    "    coefs = np.concatenate([model.intercept_, model.coef_[0]])\n",
    "    x_full = np.matrix(np.insert(np.array(x), 0, 1, axis = 1))\n",
    "    ans = np.zeros((m, m))\n",
    "    for i in range(n):\n",
    "        ans = ans + np.dot(np.transpose(x_full[i, :]), x_full[i, :]) * p[i,1] * p[i, 0]\n",
    "    vcov = np.linalg.inv(np.matrix(ans))\n",
    "    se = np.sqrt(np.diag(vcov))\n",
    "    t =  coefs/se  \n",
    "    p = (1 -  norm.cdf(abs(t))) * 2\n",
    "    return p"
   ]
  },
  {
   "cell_type": "code",
   "execution_count": 124,
   "metadata": {},
   "outputs": [
    {
     "data": {
      "text/plain": [
       "array([       nan, 0.83597479, 0.        , 0.06289138, 0.92216825,\n",
       "              nan,        nan,        nan,        nan,        nan,\n",
       "              nan,        nan,        nan,        nan,        nan,\n",
       "              nan,        nan,        nan,        nan,        nan,\n",
       "              nan,        nan,        nan,        nan,        nan,\n",
       "              nan,        nan,        nan,        nan,        nan,\n",
       "       0.98799031, 0.98421871, 0.96551242, 0.982942  , 0.96376868,\n",
       "       0.99383428, 0.99581891, 0.99824899, 0.99763269, 0.9983524 ,\n",
       "       0.99172586, 0.99829874, 0.99013361, 0.99570464])"
      ]
     },
     "execution_count": 124,
     "metadata": {},
     "output_type": "execute_result"
    }
   ],
   "source": [
    "logit_pvalue(lg_model, s_X_train)"
   ]
  },
  {
   "cell_type": "markdown",
   "metadata": {},
   "source": [
    "Most of the variables are not significant so we need better predictors for classification. For now, predicting with this model:"
   ]
  },
  {
   "cell_type": "code",
   "execution_count": 125,
   "metadata": {},
   "outputs": [
    {
     "data": {
      "text/plain": [
       "(43, 43)"
      ]
     },
     "execution_count": 125,
     "metadata": {},
     "output_type": "execute_result"
    }
   ],
   "source": [
    "len(lg_model.coef_[0]), len(s_X_val.columns)"
   ]
  },
  {
   "cell_type": "code",
   "execution_count": 126,
   "metadata": {},
   "outputs": [
    {
     "data": {
      "text/plain": [
       "array([-1.69512546])"
      ]
     },
     "execution_count": 126,
     "metadata": {},
     "output_type": "execute_result"
    }
   ],
   "source": [
    "lg_model.intercept_"
   ]
  },
  {
   "cell_type": "code",
   "execution_count": 127,
   "metadata": {},
   "outputs": [
    {
     "name": "stdout",
     "output_type": "stream",
     "text": [
      "SquareFeet 0.0007977379595144257\n",
      "PayPeriod 3.7762111644542644\n",
      "RentRate -0.01072004228672498\n",
      "Concession 0.2858125590339708\n",
      "Source_Sales Center Reservation -0.7859570604822343\n",
      "Source_Store Reservation -0.09813782941815866\n",
      "Source_Web Reservation -0.8110305668149863\n",
      "Region_Arizona / Las Vegas -0.06907444044023128\n",
      "Region_Atlanta -0.20999660575440876\n",
      "Region_Baltimore / DC -0.03941249851115957\n",
      "Region_Boston -0.08005102643327423\n",
      "Region_Chicago -0.055015728710386715\n",
      "Region_Colorado / Utah -0.09984345682899111\n",
      "Region_Connecticut -0.11393071002530977\n",
      "Region_Florida Markets - Other -0.08011694761038318\n",
      "Region_Inland Empire -0.17224092249030057\n",
      "Region_Miami / Ft. Lauderdale -0.05296559611696014\n",
      "Region_New York / Northern NJ 0.09548027587403551\n",
      "Region_Ohio -0.07078283865804916\n",
      "Region_Other Midwest -0.1215066838734811\n",
      "Region_Other Northeast -0.2112728911913243\n",
      "Region_Other Southeast -0.03653186305531167\n",
      "Region_Other West -0.1257981092504354\n",
      "Region_Philadelphia / Southern NJ -0.09749727530013179\n",
      "Region_Southern California -0.03442621305054164\n",
      "Region_Tennessee -0.04684574587829016\n",
      "Region_Texas Markets - Major -0.07329617941044432\n",
      "Previously Used Storage?_No -0.855832074414663\n",
      "Previously Used Storage?_Yes -0.8392933823007145\n",
      "Purpose?_Business Purposes -0.16165200099756938\n",
      "Purpose?_Moving (includes college & military deployment) -0.21225687555164371\n",
      "Purpose?_Organizing / Creating More Living Space -0.46264689812323073\n",
      "Purpose?_Other -0.22891475716392135\n",
      "Purpose?_Recently Acquired Items (inheritance, purchase, etc.) -0.48614014995475935\n",
      "Purpose?_Remodeling / Renovating -0.08323223035891027\n",
      "Purpose?_Seasonal Storage -0.05627740538553457\n",
      "Storage Reason_Auto / Motorcycle / Boat -0.09929246849690279\n",
      "Storage Reason_Business Inventory / Product -0.13419598390178375\n",
      "Storage Reason_Clothes / Toys / Miscellaneous -0.0934160815496037\n",
      "Storage Reason_Files / Office Items -0.4690186073193378\n",
      "Storage Reason_Furniture / Household goods / Appliances -0.09647652974617617\n",
      "Storage Reason_Other -0.559259099293417\n",
      "Storage Reason_Yard Equipment / Tools -0.24349763231475555\n"
     ]
    }
   ],
   "source": [
    "# Checking coefficient values\n",
    "for i in range( len(s_X_val.columns)):\n",
    "    print(s_X_val.columns[i], lg_model.coef_[0][i])"
   ]
  },
  {
   "cell_type": "code",
   "execution_count": 128,
   "metadata": {},
   "outputs": [],
   "source": [
    "# Predicting on validation data\n",
    "lg_pred = lg_model.predict(s_X_val)"
   ]
  },
  {
   "cell_type": "code",
   "execution_count": 129,
   "metadata": {},
   "outputs": [
    {
     "data": {
      "text/plain": [
       "array([[ 105,    0],\n",
       "       [   4, 1132]], dtype=int64)"
      ]
     },
     "execution_count": 129,
     "metadata": {},
     "output_type": "execute_result"
    }
   ],
   "source": [
    "confusion_matrix(s_Y_val, lg_pred)"
   ]
  },
  {
   "cell_type": "code",
   "execution_count": 130,
   "metadata": {},
   "outputs": [
    {
     "data": {
      "text/plain": [
       "0.9982394366197183"
      ]
     },
     "execution_count": 130,
     "metadata": {},
     "output_type": "execute_result"
    }
   ],
   "source": [
    "roc_auc_score(s_Y_val, lg_pred)"
   ]
  },
  {
   "cell_type": "markdown",
   "metadata": {},
   "source": [
    "Checking values with Cross Validation:"
   ]
  },
  {
   "cell_type": "code",
   "execution_count": 131,
   "metadata": {},
   "outputs": [],
   "source": [
    "lg_cv = LogisticRegression(class_weight  = 'balanced', C=0.1)"
   ]
  },
  {
   "cell_type": "code",
   "execution_count": 132,
   "metadata": {},
   "outputs": [
    {
     "data": {
      "text/plain": [
       "array([0.99903335, 0.99806576, 0.99734043])"
      ]
     },
     "execution_count": 132,
     "metadata": {},
     "output_type": "execute_result"
    }
   ],
   "source": [
    "cross_val_score(lg_cv, s_Features_dummies,Stick_Check_Data['is_sticky'], cv=3)"
   ]
  },
  {
   "cell_type": "markdown",
   "metadata": {},
   "source": [
    "Current Classifier looks great, although there is lot of scope to try other models and perform parameter tuning. \n",
    "For now, I am using Logistic Regression with penality model. Training on overall data:"
   ]
  },
  {
   "cell_type": "code",
   "execution_count": 133,
   "metadata": {},
   "outputs": [
    {
     "data": {
      "text/plain": [
       "LogisticRegression(C=0.1, class_weight='balanced', dual=False,\n",
       "          fit_intercept=True, intercept_scaling=1, max_iter=100,\n",
       "          multi_class='warn', n_jobs=None, penalty='l2', random_state=None,\n",
       "          solver='warn', tol=0.0001, verbose=0, warm_start=False)"
      ]
     },
     "execution_count": 133,
     "metadata": {},
     "output_type": "execute_result"
    }
   ],
   "source": [
    "lg_model_final =LogisticRegression(class_weight  = 'balanced', C=0.1)\n",
    "lg_model_final.fit(s_Features_dummies,Stick_Check_Data['is_sticky'] )"
   ]
  },
  {
   "cell_type": "markdown",
   "metadata": {},
   "source": [
    "Creating test data set: observations which are rented, used promotion and stayed after free trial"
   ]
  },
  {
   "cell_type": "code",
   "execution_count": 134,
   "metadata": {},
   "outputs": [],
   "source": [
    "Promotion_Rented_Stayed_PostFree_Dataset = promotion_rented_dataset[promotion_rented_dataset['PayPeriod']!=0]"
   ]
  },
  {
   "cell_type": "code",
   "execution_count": 135,
   "metadata": {},
   "outputs": [],
   "source": [
    "s_X_test = Promotion_Rented_Stayed_PostFree_Dataset[['SquareFeet','PayPeriod','Source','RentRate','Concession','Region','Previously Used Storage?','Purpose?','Storage Reason']]"
   ]
  },
  {
   "cell_type": "code",
   "execution_count": 136,
   "metadata": {},
   "outputs": [],
   "source": [
    "s_X_test_dummies = pd.get_dummies(s_X_test)"
   ]
  },
  {
   "cell_type": "code",
   "execution_count": 137,
   "metadata": {},
   "outputs": [],
   "source": [
    "lg_pred_test = lg_model_final.predict(s_X_test_dummies)"
   ]
  },
  {
   "cell_type": "code",
   "execution_count": 138,
   "metadata": {},
   "outputs": [
    {
     "data": {
      "text/plain": [
       "(2756, 21522)"
      ]
     },
     "execution_count": 138,
     "metadata": {},
     "output_type": "execute_result"
    }
   ],
   "source": [
    "np.sum(lg_pred_test==0), np.sum(lg_pred_test==1)"
   ]
  },
  {
   "cell_type": "code",
   "execution_count": 139,
   "metadata": {},
   "outputs": [],
   "source": [
    "Promotion_Rented_Stayed_PostFree_Dataset['is_sticky']  = pd.Series(lg_pred_test)"
   ]
  },
  {
   "cell_type": "code",
   "execution_count": 140,
   "metadata": {},
   "outputs": [
    {
     "data": {
      "text/html": [
       "<div>\n",
       "<style scoped>\n",
       "    .dataframe tbody tr th:only-of-type {\n",
       "        vertical-align: middle;\n",
       "    }\n",
       "\n",
       "    .dataframe tbody tr th {\n",
       "        vertical-align: top;\n",
       "    }\n",
       "\n",
       "    .dataframe thead th {\n",
       "        text-align: right;\n",
       "    }\n",
       "</style>\n",
       "<table border=\"1\" class=\"dataframe\">\n",
       "  <thead>\n",
       "    <tr style=\"text-align: right;\">\n",
       "      <th></th>\n",
       "      <th>Store</th>\n",
       "      <th>Account ID</th>\n",
       "      <th>SquareFeet</th>\n",
       "      <th>Rented?</th>\n",
       "      <th>ReserveDate</th>\n",
       "      <th>Move In Date</th>\n",
       "      <th>Move Out Date</th>\n",
       "      <th>Promotion Name</th>\n",
       "      <th>Source</th>\n",
       "      <th>RentRate</th>\n",
       "      <th>...</th>\n",
       "      <th>Concession</th>\n",
       "      <th>Region</th>\n",
       "      <th>Previously Used Storage?</th>\n",
       "      <th>Purpose?</th>\n",
       "      <th>Storage Reason</th>\n",
       "      <th>Length_of_stay</th>\n",
       "      <th>cost_by_company</th>\n",
       "      <th>PayPeriod</th>\n",
       "      <th>Revenue_per_customer</th>\n",
       "      <th>is_sticky</th>\n",
       "    </tr>\n",
       "  </thead>\n",
       "  <tbody>\n",
       "    <tr>\n",
       "      <th>62</th>\n",
       "      <td>2555</td>\n",
       "      <td>105062</td>\n",
       "      <td>150</td>\n",
       "      <td>True</td>\n",
       "      <td>2012-11-11 23:28:23</td>\n",
       "      <td>2012-11-11 23:31:55</td>\n",
       "      <td>2013-01-11 21:47:31.000</td>\n",
       "      <td>First Month Free</td>\n",
       "      <td>Web Reservation</td>\n",
       "      <td>152.1</td>\n",
       "      <td>...</td>\n",
       "      <td>-0.1</td>\n",
       "      <td>New York / Northern NJ</td>\n",
       "      <td>Yes</td>\n",
       "      <td>Other</td>\n",
       "      <td>Other</td>\n",
       "      <td>3</td>\n",
       "      <td>152.1</td>\n",
       "      <td>2.0</td>\n",
       "      <td>304.2</td>\n",
       "      <td>0.0</td>\n",
       "    </tr>\n",
       "    <tr>\n",
       "      <th>83</th>\n",
       "      <td>2800</td>\n",
       "      <td>105083</td>\n",
       "      <td>50</td>\n",
       "      <td>True</td>\n",
       "      <td>2012-11-12 00:54:57</td>\n",
       "      <td>2012-11-12 00:54:59</td>\n",
       "      <td>2013-04-07 10:10:54.500</td>\n",
       "      <td>First Month Half Off</td>\n",
       "      <td>Web Reservation</td>\n",
       "      <td>159.0</td>\n",
       "      <td>...</td>\n",
       "      <td>0.0</td>\n",
       "      <td>Ohio</td>\n",
       "      <td>No</td>\n",
       "      <td>Recently Acquired Items (inheritance, purchase...</td>\n",
       "      <td>Files / Office Items</td>\n",
       "      <td>5</td>\n",
       "      <td>79.5</td>\n",
       "      <td>4.5</td>\n",
       "      <td>715.5</td>\n",
       "      <td>0.0</td>\n",
       "    </tr>\n",
       "    <tr>\n",
       "      <th>120</th>\n",
       "      <td>3845</td>\n",
       "      <td>105120</td>\n",
       "      <td>200</td>\n",
       "      <td>True</td>\n",
       "      <td>2012-11-12 02:53:57</td>\n",
       "      <td>2012-11-17 03:19:40</td>\n",
       "      <td>2013-04-06 10:27:49.000</td>\n",
       "      <td>First Month Free</td>\n",
       "      <td>Sales Center Reservation</td>\n",
       "      <td>162.0</td>\n",
       "      <td>...</td>\n",
       "      <td>-0.1</td>\n",
       "      <td>Connecticut</td>\n",
       "      <td>No</td>\n",
       "      <td>Recently Acquired Items (inheritance, purchase...</td>\n",
       "      <td>Other</td>\n",
       "      <td>5</td>\n",
       "      <td>162.0</td>\n",
       "      <td>4.0</td>\n",
       "      <td>648.0</td>\n",
       "      <td>0.0</td>\n",
       "    </tr>\n",
       "    <tr>\n",
       "      <th>150</th>\n",
       "      <td>1555</td>\n",
       "      <td>105150</td>\n",
       "      <td>200</td>\n",
       "      <td>True</td>\n",
       "      <td>2012-11-12 04:17:47</td>\n",
       "      <td>2012-11-12 04:50:29</td>\n",
       "      <td>2013-08-09 22:45:17.000</td>\n",
       "      <td>First Month Free</td>\n",
       "      <td>Web Reservation</td>\n",
       "      <td>269.0</td>\n",
       "      <td>...</td>\n",
       "      <td>0.0</td>\n",
       "      <td>Ohio</td>\n",
       "      <td>Yes</td>\n",
       "      <td>Organizing / Creating More Living Space</td>\n",
       "      <td>Other</td>\n",
       "      <td>9</td>\n",
       "      <td>269.0</td>\n",
       "      <td>8.0</td>\n",
       "      <td>2152.0</td>\n",
       "      <td>0.0</td>\n",
       "    </tr>\n",
       "    <tr>\n",
       "      <th>154</th>\n",
       "      <td>2800</td>\n",
       "      <td>105154</td>\n",
       "      <td>25</td>\n",
       "      <td>True</td>\n",
       "      <td>2012-11-12 04:22:35</td>\n",
       "      <td>2012-11-12 04:22:39</td>\n",
       "      <td>2013-03-24 23:02:48.000</td>\n",
       "      <td>First Month Half Off</td>\n",
       "      <td>Web Reservation</td>\n",
       "      <td>39.0</td>\n",
       "      <td>...</td>\n",
       "      <td>0.0</td>\n",
       "      <td>Ohio</td>\n",
       "      <td>No</td>\n",
       "      <td>Other</td>\n",
       "      <td>Files / Office Items</td>\n",
       "      <td>5</td>\n",
       "      <td>19.5</td>\n",
       "      <td>4.5</td>\n",
       "      <td>175.5</td>\n",
       "      <td>0.0</td>\n",
       "    </tr>\n",
       "  </tbody>\n",
       "</table>\n",
       "<p>5 rows × 21 columns</p>\n",
       "</div>"
      ],
      "text/plain": [
       "     Store  Account ID  SquareFeet  Rented?         ReserveDate  \\\n",
       "62    2555      105062         150     True 2012-11-11 23:28:23   \n",
       "83    2800      105083          50     True 2012-11-12 00:54:57   \n",
       "120   3845      105120         200     True 2012-11-12 02:53:57   \n",
       "150   1555      105150         200     True 2012-11-12 04:17:47   \n",
       "154   2800      105154          25     True 2012-11-12 04:22:35   \n",
       "\n",
       "           Move In Date           Move Out Date        Promotion Name  \\\n",
       "62  2012-11-11 23:31:55 2013-01-11 21:47:31.000      First Month Free   \n",
       "83  2012-11-12 00:54:59 2013-04-07 10:10:54.500  First Month Half Off   \n",
       "120 2012-11-17 03:19:40 2013-04-06 10:27:49.000      First Month Free   \n",
       "150 2012-11-12 04:50:29 2013-08-09 22:45:17.000      First Month Free   \n",
       "154 2012-11-12 04:22:39 2013-03-24 23:02:48.000  First Month Half Off   \n",
       "\n",
       "                       Source  RentRate    ...      Concession  \\\n",
       "62            Web Reservation     152.1    ...            -0.1   \n",
       "83            Web Reservation     159.0    ...             0.0   \n",
       "120  Sales Center Reservation     162.0    ...            -0.1   \n",
       "150           Web Reservation     269.0    ...             0.0   \n",
       "154           Web Reservation      39.0    ...             0.0   \n",
       "\n",
       "                     Region Previously Used Storage?  \\\n",
       "62   New York / Northern NJ                      Yes   \n",
       "83                     Ohio                       No   \n",
       "120             Connecticut                       No   \n",
       "150                    Ohio                      Yes   \n",
       "154                    Ohio                       No   \n",
       "\n",
       "                                              Purpose?        Storage Reason  \\\n",
       "62                                               Other                 Other   \n",
       "83   Recently Acquired Items (inheritance, purchase...  Files / Office Items   \n",
       "120  Recently Acquired Items (inheritance, purchase...                 Other   \n",
       "150            Organizing / Creating More Living Space                 Other   \n",
       "154                                              Other  Files / Office Items   \n",
       "\n",
       "    Length_of_stay  cost_by_company  PayPeriod  Revenue_per_customer  \\\n",
       "62               3            152.1        2.0                 304.2   \n",
       "83               5             79.5        4.5                 715.5   \n",
       "120              5            162.0        4.0                 648.0   \n",
       "150              9            269.0        8.0                2152.0   \n",
       "154              5             19.5        4.5                 175.5   \n",
       "\n",
       "     is_sticky  \n",
       "62         0.0  \n",
       "83         0.0  \n",
       "120        0.0  \n",
       "150        0.0  \n",
       "154        0.0  \n",
       "\n",
       "[5 rows x 21 columns]"
      ]
     },
     "execution_count": 140,
     "metadata": {},
     "output_type": "execute_result"
    }
   ],
   "source": [
    "Promotion_Rented_Stayed_PostFree_Dataset[Promotion_Rented_Stayed_PostFree_Dataset['is_sticky']==0].head()"
   ]
  },
  {
   "cell_type": "markdown",
   "metadata": {},
   "source": [
    "Now, we can say that additional revenue generated due to Promotion is actually because of the customers which were originally Non-sticky but due to promotion, stayed with the company."
   ]
  },
  {
   "cell_type": "code",
   "execution_count": 141,
   "metadata": {},
   "outputs": [],
   "source": [
    "Actual_Additional_Revenue = np.sum(Promotion_Rented_Stayed_PostFree_Dataset[Promotion_Rented_Stayed_PostFree_Dataset['is_sticky']==0]['Revenue_per_customer'])"
   ]
  },
  {
   "cell_type": "code",
   "execution_count": 142,
   "metadata": {},
   "outputs": [
    {
     "data": {
      "text/plain": [
       "1003170.35"
      ]
     },
     "execution_count": 142,
     "metadata": {},
     "output_type": "execute_result"
    }
   ],
   "source": [
    "Actual_Additional_Revenue"
   ]
  },
  {
   "cell_type": "code",
   "execution_count": 143,
   "metadata": {},
   "outputs": [
    {
     "data": {
      "text/plain": [
       "-1219941.6549999998"
      ]
     },
     "execution_count": 143,
     "metadata": {},
     "output_type": "execute_result"
    }
   ],
   "source": [
    "Actual_Additional_Revenue - total_cost_by_company"
   ]
  },
  {
   "cell_type": "markdown",
   "metadata": {},
   "source": [
    " We are giving promotion to 24278 while it will be best to give promotion to only 2756 people, so Although it seems that we are \n",
    " earning extra revenue of 10356279 while we are only earning 1003170(one tenth of earlier) by promotion.\n",
    " Considering the cost by promotion, we are actually losing money 1219941 $ by current promotion model. So company should assess its strategy of giving promotion and should identify sticky customer."
   ]
  },
  {
   "cell_type": "markdown",
   "metadata": {},
   "source": [
    "# Effect of Length of stay"
   ]
  },
  {
   "cell_type": "markdown",
   "metadata": {},
   "source": [
    "On Extra Rentals:\n",
    "\n",
    "Extra Rentals = Total Promotion Cost / ( Avg Rate Rate  * Avg Pay Period) \n",
    "Pay Period  = Length of stay - k , where k is a small number depending upon promotion\n",
    "Clearly, Higher Length of stay will result in Higher Pay Period and there will be lesser Extra Rentals Needed."
   ]
  },
  {
   "cell_type": "markdown",
   "metadata": {},
   "source": [
    "On Additional Revenue due to Promotion:\n",
    "\n",
    "Additional Revenue are getting generated by giving promotion to non-sticky customers. How is Avg length of stay different in predicted sticky and non-sticky customers?\n",
    "    "
   ]
  },
  {
   "cell_type": "code",
   "execution_count": 144,
   "metadata": {},
   "outputs": [],
   "source": [
    "Avg_length_for_correct_promotion = np.mean(Promotion_Rented_Stayed_PostFree_Dataset[Promotion_Rented_Stayed_PostFree_Dataset['is_sticky']==0]['Length_of_stay'])"
   ]
  },
  {
   "cell_type": "code",
   "execution_count": 145,
   "metadata": {},
   "outputs": [],
   "source": [
    "Avg_length_for_wrong_promotion = np.mean(Promotion_Rented_Stayed_PostFree_Dataset[Promotion_Rented_Stayed_PostFree_Dataset['is_sticky']==1]['Length_of_stay'])"
   ]
  },
  {
   "cell_type": "code",
   "execution_count": 146,
   "metadata": {},
   "outputs": [
    {
     "data": {
      "text/plain": [
       "(15.1419185282523, 14.990009668063164)"
      ]
     },
     "execution_count": 146,
     "metadata": {},
     "output_type": "execute_result"
    }
   ],
   "source": [
    "Avg_length_for_correct_promotion,Avg_length_for_wrong_promotion "
   ]
  },
  {
   "cell_type": "markdown",
   "metadata": {},
   "source": [
    "Applying t test to assess difference in mean of length of stay:"
   ]
  },
  {
   "cell_type": "code",
   "execution_count": 147,
   "metadata": {},
   "outputs": [
    {
     "data": {
      "text/plain": [
       "Ttest_indResult(statistic=0.36829585979751434, pvalue=0.7126638319971456)"
      ]
     },
     "execution_count": 147,
     "metadata": {},
     "output_type": "execute_result"
    }
   ],
   "source": [
    "ttest_ind(Promotion_Rented_Stayed_PostFree_Dataset[Promotion_Rented_Stayed_PostFree_Dataset['is_sticky']==0]['Length_of_stay'], Promotion_Rented_Stayed_PostFree_Dataset[Promotion_Rented_Stayed_PostFree_Dataset['is_sticky']==1]['Length_of_stay'])"
   ]
  },
  {
   "cell_type": "markdown",
   "metadata": {},
   "source": [
    "As p value is high, we can say that means are not different from each other in both cases.\n",
    "\n",
    "If we see in distribution, we can say, ultimately there are few customers who are converting in long-term stay if they pass first 10 months or so. \n",
    "\n",
    "With a different model,result may vary too. "
   ]
  },
  {
   "cell_type": "code",
   "execution_count": 148,
   "metadata": {},
   "outputs": [
    {
     "data": {
      "text/plain": [
       "Text(0.5,1,'Distribution of Length of stay for Non-sticky customers')"
      ]
     },
     "execution_count": 148,
     "metadata": {},
     "output_type": "execute_result"
    },
    {
     "data": {
      "image/png": "[encoded data removed]",
      "text/plain": [
       "<Figure size 432x288 with 1 Axes>"
      ]
     },
     "metadata": {},
     "output_type": "display_data"
    }
   ],
   "source": [
    "Promotion_Rented_Stayed_PostFree_Dataset[Promotion_Rented_Stayed_PostFree_Dataset['is_sticky']==0]['Length_of_stay'].hist()\n",
    "plt.xlabel(\"Length of stay\")\n",
    "plt.title(\"Distribution of Length of stay for Non-sticky customers\")"
   ]
  },
  {
   "cell_type": "markdown",
   "metadata": {},
   "source": [
    "#  Effect by Customer type"
   ]
  },
  {
   "cell_type": "markdown",
   "metadata": {},
   "source": [
    "Effect_on_Cost function:\n",
    "\n",
    "1.Checks effect by each category of a variable on Total Cost of Promotion, \n",
    "\n",
    "2.Confirms the variability by either t-test or ANOVA \n",
    "\n",
    "3.Finds extra rentals needed for each category\n",
    "\n",
    "Input: Categorical variable whose effect to check\n",
    "\n",
    "Output: Dictionary for extra rentals, Dictionary for Total cost, Dictionary for avg cost, stat value, p value"
   ]
  },
  {
   "cell_type": "code",
   "execution_count": 149,
   "metadata": {},
   "outputs": [],
   "source": [
    "def Effect_on_Cost(Variable):\n",
    "    categories = promotion_rented_dataset[~pd.isnull(promotion_rented_dataset[Variable])][Variable].unique()\n",
    "    list_of_costs =[]\n",
    "    \n",
    "    gb = promotion_rented_dataset.groupby(Variable)['cost_by_company']\n",
    "    gb_price =  promotion_rented_dataset.groupby(Variable)['RentRate'].mean()\n",
    "    gb_stay = promotion_rented_dataset.groupby(Variable)['PayPeriod'].mean()\n",
    "    Extra_Rentals = []\n",
    "    Total_Costs=[]\n",
    "    Avg_Cost=[]\n",
    "    for i,category in enumerate(categories):\n",
    "        arr = gb.get_group(category)\n",
    "        list_of_costs.append(arr)\n",
    "        Total_Costs.append(np.sum(arr))\n",
    "        Avg_Cost.append(np.mean(arr))\n",
    "        Extra_Rentals.append(np.sum(arr)/(gb_price[i]*gb_stay[i]))\n",
    "    if len(categories) ==2:\n",
    "        t_val, p_val = ttest_ind(list_of_costs[0], list_of_costs[1])\n",
    "        stat_val = t_val\n",
    "        \n",
    "    else:\n",
    "        f_val,p_val = f_oneway(*list_of_costs)\n",
    "        stat_val = f_val\n",
    "        \n",
    "    return dict(zip(categories,Extra_Rentals )),dict(zip(categories,Total_Costs )),dict(zip(categories,Avg_Cost) ), stat_val, p_val    "
   ]
  },
  {
   "cell_type": "markdown",
   "metadata": {},
   "source": [
    "Effect_on_Revenue function:\n",
    "\n",
    "1.Checks effect by each category of a variable on Additional Renenue generated by giving promotion to correct customers, \n",
    "\n",
    "2.Confirms the variability by either t-test or ANOVA \n",
    "\n",
    "\n",
    "Input: Categorical variable whose effect to check\n",
    "\n",
    "Output: Dictionary for Additional Revenue, Dictionary for Additional Average Revenue, stat value, p value"
   ]
  },
  {
   "cell_type": "code",
   "execution_count": 150,
   "metadata": {},
   "outputs": [],
   "source": [
    "def Effect_on_Revenue(Variable):\n",
    "    categories = Promotion_Rented_Stayed_PostFree_Dataset[~pd.isnull(promotion_rented_dataset[Variable])][Variable].unique()\n",
    "    list_of_revenue =[]\n",
    "    Avg_of_revenue=[]\n",
    "    Net_Avg_Revenue = []\n",
    "    _,Total_Cost_Category,_,_,_ = Effect_on_Cost(Variable)\n",
    "    #Revenue generated by using promotion\n",
    "    gb = Promotion_Rented_Stayed_PostFree_Dataset[Promotion_Rented_Stayed_PostFree_Dataset['is_sticky']==0].groupby(Variable)['Revenue_per_customer']\n",
    "    \n",
    "    for i,category in enumerate(categories):\n",
    "        arr = gb.get_group(category)\n",
    "        list_of_revenue.append(arr)\n",
    "        Avg_of_revenue.append(np.mean(arr))\n",
    "        Net_Avg_Revenue.append(np.mean(np.sum(arr) -Total_Cost_Category[category]) )\n",
    "        \n",
    "    if len(categories) ==2:\n",
    "        t_val, p_val = ttest_ind(list_of_revenue[0], list_of_revenue[1])\n",
    "        return dict(zip(categories,Avg_of_revenue )),dict(zip(categories,Net_Avg_Revenue )), t_val, p_val\n",
    "    else:\n",
    "        f_val,p_val = f_oneway(*list_of_revenue)\n",
    "        return dict(zip(categories,Avg_of_revenue )),dict(zip(categories,Net_Avg_Revenue )), f_val, p_val"
   ]
  },
  {
   "cell_type": "markdown",
   "metadata": {},
   "source": [
    "Effect of Previously used stores"
   ]
  },
  {
   "cell_type": "code",
   "execution_count": 151,
   "metadata": {},
   "outputs": [
    {
     "data": {
      "text/plain": [
       "({'No': 950.4741537949926, 'Yes': 1016.8425493357402},\n",
       " {'No': 1023684.0249999999, 'Yes': 1199427.9800000002},\n",
       " {'No': 85.16506031614051, 'Yes': 89.5763988050767},\n",
       " -6.802064209442916,\n",
       " 1.0541823145680924e-11)"
      ]
     },
     "execution_count": 151,
     "metadata": {},
     "output_type": "execute_result"
    }
   ],
   "source": [
    "Effect_on_Cost('Previously Used Storage?')"
   ]
  },
  {
   "cell_type": "code",
   "execution_count": 152,
   "metadata": {},
   "outputs": [
    {
     "data": {
      "text/plain": [
       "({'No': 1171.1445530726253, 'Yes': 1448.884863523573},\n",
       " {'No': -604414.2749999999, 'Yes': -615527.3800000002},\n",
       " -2.696766815027266,\n",
       " 0.007156881848289449)"
      ]
     },
     "execution_count": 152,
     "metadata": {},
     "output_type": "execute_result"
    }
   ],
   "source": [
    "Effect_on_Revenue('Previously Used Storage?')"
   ]
  },
  {
   "cell_type": "markdown",
   "metadata": {},
   "source": [
    "Customers who have used storage before tends to be costly and but also generates more revenue, identifying non-sticky returning customers will help in reducing cost."
   ]
  },
  {
   "cell_type": "markdown",
   "metadata": {},
   "source": [
    "Effect of Purpose?"
   ]
  },
  {
   "cell_type": "code",
   "execution_count": 153,
   "metadata": {},
   "outputs": [
    {
     "data": {
      "text/plain": [
       "({'Other': 335.30940876791306,\n",
       "  'Organizing / Creating More Living Space': 593.5748321352128,\n",
       "  'Recently Acquired Items (inheritance, purchase, etc.)': 486.4687433172473,\n",
       "  'Business Purposes': 117.42639733808629,\n",
       "  'Seasonal Storage': 70.87299766589348,\n",
       "  'Moving (includes college & military deployment)': 164.3355839702423,\n",
       "  'Remodeling / Renovating': 56.89934344252341},\n",
       " {'Other': 358417.30000000005,\n",
       "  'Organizing / Creating More Living Space': 859299.95,\n",
       "  'Recently Acquired Items (inheritance, purchase, etc.)': 525175.26,\n",
       "  'Business Purposes': 134034.925,\n",
       "  'Seasonal Storage': 76829.69499999999,\n",
       "  'Moving (includes college & military deployment)': 195505.75,\n",
       "  'Remodeling / Renovating': 71787.92499999999},\n",
       " {'Other': 76.74888650963729,\n",
       "  'Organizing / Creating More Living Space': 89.1205092304508,\n",
       "  'Recently Acquired Items (inheritance, purchase, etc.)': 86.23567487684853,\n",
       "  'Business Purposes': 84.03443573667671,\n",
       "  'Seasonal Storage': 98.24769181585654,\n",
       "  'Moving (includes college & military deployment)': 109.34326062639808,\n",
       "  'Remodeling / Renovating': 87.43961632155917},\n",
       " 98.209166165953,\n",
       " 1.343588286833796e-122)"
      ]
     },
     "execution_count": 153,
     "metadata": {},
     "output_type": "execute_result"
    }
   ],
   "source": [
    "Effect_on_Cost('Purpose?')"
   ]
  },
  {
   "cell_type": "code",
   "execution_count": 154,
   "metadata": {},
   "outputs": [
    {
     "data": {
      "text/plain": [
       "({'Other': 1463.756439393939,\n",
       "  'Organizing / Creating More Living Space': 1241.2339655172411,\n",
       "  'Recently Acquired Items (inheritance, purchase, etc.)': 1195.5105527638195,\n",
       "  'Business Purposes': 1344.9724999999999,\n",
       "  'Seasonal Storage': 1391.678260869565,\n",
       "  'Moving (includes college & military deployment)': 1710.0396226415094,\n",
       "  'Remodeling / Renovating': 1421.9386363636365},\n",
       " {'Other': -165201.45000000007,\n",
       "  'Organizing / Creating More Living Space': -499342.0999999999,\n",
       "  'Recently Acquired Items (inheritance, purchase, etc.)': -287268.66,\n",
       "  'Business Purposes': -80236.025,\n",
       "  'Seasonal Storage': -44821.094999999994,\n",
       "  'Moving (includes college & military deployment)': -104873.65000000001,\n",
       "  'Remodeling / Renovating': -40505.27499999999},\n",
       " 1.3266128376749027,\n",
       " 0.24261632900748367)"
      ]
     },
     "execution_count": 154,
     "metadata": {},
     "output_type": "execute_result"
    }
   ],
   "source": [
    "Effect_on_Revenue('Purpose?')"
   ]
  },
  {
   "cell_type": "markdown",
   "metadata": {},
   "source": [
    "Remodeling / Renovating is most profitable category in Purpose "
   ]
  },
  {
   "cell_type": "markdown",
   "metadata": {},
   "source": [
    "Effect of Storage Reason"
   ]
  },
  {
   "cell_type": "code",
   "execution_count": 155,
   "metadata": {
    "scrolled": true
   },
   "outputs": [
    {
     "data": {
      "text/plain": [
       "({'Other': 1174.4472880785079,\n",
       "  'Files / Office Items': 304.1179032197779,\n",
       "  'Yard Equipment / Tools': 89.19940289834182,\n",
       "  'Business Inventory / Product': 163.53566776975924,\n",
       "  'Furniture / Household goods / Appliances': 32.78558714223143,\n",
       "  'Auto / Motorcycle / Boat': 49.723981126653214,\n",
       "  'Clothes / Toys / Miscellaneous': 81.03211193965498},\n",
       " {'Other': 1425134.435,\n",
       "  'Files / Office Items': 324412.67000000004,\n",
       "  'Yard Equipment / Tools': 135919.75,\n",
       "  'Business Inventory / Product': 145902.275,\n",
       "  'Furniture / Household goods / Appliances': 42209.0,\n",
       "  'Auto / Motorcycle / Boat': 58766.85,\n",
       "  'Clothes / Toys / Miscellaneous': 88570.04999999999},\n",
       " {'Other': 91.33720662692468,\n",
       "  'Files / Office Items': 68.92132356065517,\n",
       "  'Yard Equipment / Tools': 83.3352237890862,\n",
       "  'Business Inventory / Product': 98.71601826792933,\n",
       "  'Furniture / Household goods / Appliances': 81.95922330097089,\n",
       "  'Auto / Motorcycle / Boat': 88.23851351351362,\n",
       "  'Clothes / Toys / Miscellaneous': 112.97200255102005},\n",
       " 168.30866217039136,\n",
       " 1.0902451437317763e-210)"
      ]
     },
     "execution_count": 155,
     "metadata": {},
     "output_type": "execute_result"
    }
   ],
   "source": [
    "Effect_on_Cost('Storage Reason')"
   ]
  },
  {
   "cell_type": "code",
   "execution_count": 156,
   "metadata": {},
   "outputs": [
    {
     "data": {
      "text/plain": [
       "({'Other': 1375.409406952964,\n",
       "  'Files / Office Items': 976.24598540146,\n",
       "  'Yard Equipment / Tools': 1588.996226415094,\n",
       "  'Business Inventory / Product': 1359.361842105263,\n",
       "  'Furniture / Household goods / Appliances': 1293.6615384615384,\n",
       "  'Auto / Motorcycle / Boat': 1114.9045454545453,\n",
       "  'Clothes / Toys / Miscellaneous': 1594.7675},\n",
       " {'Other': -752559.235,\n",
       "  'Files / Office Items': -190666.97000000003,\n",
       "  'Yard Equipment / Tools': -51702.95000000001,\n",
       "  'Business Inventory / Product': -94246.525,\n",
       "  'Furniture / Household goods / Appliances': -25391.4,\n",
       "  'Auto / Motorcycle / Boat': -46502.9,\n",
       "  'Clothes / Toys / Miscellaneous': -56674.69999999999},\n",
       " 1.9515155453396993,\n",
       " 0.07025164449012747)"
      ]
     },
     "execution_count": 156,
     "metadata": {},
     "output_type": "execute_result"
    }
   ],
   "source": [
    "Effect_on_Revenue('Storage Reason')"
   ]
  },
  {
   "cell_type": "markdown",
   "metadata": {},
   "source": [
    "Furniture / Household goods / Appliances, Yard Equipment / Tools are high profit Storage Reason categories while Business Inventory / Product\n",
    " are least performing.\n"
   ]
  },
  {
   "cell_type": "markdown",
   "metadata": {},
   "source": [
    "Effect of  Region"
   ]
  },
  {
   "cell_type": "code",
   "execution_count": 157,
   "metadata": {},
   "outputs": [
    {
     "data": {
      "text/plain": [
       "({'Colorado / Utah': 183.58154700793366,\n",
       "  'Other Southeast': 36.12943994329893,\n",
       "  'Southern California': 74.69772892394064,\n",
       "  'Boston': 78.37470682988835,\n",
       "  'Inland Empire': 191.23360591896255,\n",
       "  'New York / Northern NJ': 67.41436092907588,\n",
       "  'Florida Markets - Other': 81.48758769203339,\n",
       "  'Other Midwest': 93.15728923558268,\n",
       "  'Arizona / Las Vegas': 209.18051595370446,\n",
       "  'Ohio': 185.23689012976715,\n",
       "  'Atlanta': 152.40736356050047,\n",
       "  'Texas Markets - Major': 39.294544583896254,\n",
       "  'Connecticut': 115.34212769284926,\n",
       "  'Miami / Ft. Lauderdale': 135.35957839340682,\n",
       "  'Tennessee': 57.72410423699322,\n",
       "  'Other Northeast': 80.10120058435933,\n",
       "  'Baltimore / DC': 53.54002563224712,\n",
       "  'Other West': 48.61795024479111,\n",
       "  'Chicago': 27.082482896817133,\n",
       "  'Philadelphia / Southern NJ': 57.972537021873336},\n",
       " {'Colorado / Utah': 227536.75,\n",
       "  'Other Southeast': 30817.174999999996,\n",
       "  'Southern California': 73036.14,\n",
       "  'Boston': 121322.33,\n",
       "  'Inland Empire': 253730.35499999998,\n",
       "  'New York / Northern NJ': 82323.425,\n",
       "  'Florida Markets - Other': 98855.85999999999,\n",
       "  'Other Midwest': 117590.025,\n",
       "  'Arizona / Las Vegas': 211692.625,\n",
       "  'Ohio': 186418.97499999998,\n",
       "  'Atlanta': 177372.4,\n",
       "  'Texas Markets - Major': 67273.125,\n",
       "  'Connecticut': 113047.55,\n",
       "  'Miami / Ft. Lauderdale': 111301.495,\n",
       "  'Tennessee': 67873.575,\n",
       "  'Other Northeast': 75250.425,\n",
       "  'Baltimore / DC': 51645.3,\n",
       "  'Other West': 65258.5,\n",
       "  'Chicago': 33127.75,\n",
       "  'Philadelphia / Southern NJ': 57638.225000000006},\n",
       " {'Colorado / Utah': 88.74288221528855,\n",
       "  'Other Southeast': 75.34761613691948,\n",
       "  'Southern California': 97.90367292225197,\n",
       "  'Boston': 119.76538005922964,\n",
       "  'Inland Empire': 82.83720372184116,\n",
       "  'New York / Northern NJ': 80.55129647749501,\n",
       "  'Florida Markets - Other': 89.30068654019838,\n",
       "  'Other Midwest': 76.25812256809303,\n",
       "  'Arizona / Las Vegas': 96.53106475148181,\n",
       "  'Ohio': 120.19276273372019,\n",
       "  'Atlanta': 70.52580516898593,\n",
       "  'Texas Markets - Major': 82.1405677655678,\n",
       "  'Connecticut': 100.75539215686277,\n",
       "  'Miami / Ft. Lauderdale': 81.0054548762734,\n",
       "  'Tennessee': 92.72346311475424,\n",
       "  'Other Northeast': 72.98780310378257,\n",
       "  'Baltimore / DC': 70.17024456521733,\n",
       "  'Other West': 74.83772935779817,\n",
       "  'Chicago': 112.67942176870763,\n",
       "  'Philadelphia / Southern NJ': 81.75634751773043},\n",
       " 110.09613257244553,\n",
       " 0.0)"
      ]
     },
     "execution_count": 157,
     "metadata": {},
     "output_type": "execute_result"
    }
   ],
   "source": [
    "Effect_on_Cost('Region')"
   ]
  },
  {
   "cell_type": "code",
   "execution_count": 158,
   "metadata": {},
   "outputs": [
    {
     "data": {
      "text/plain": [
       "({'Colorado / Utah': 1422.3246666666666,\n",
       "  'Other Southeast': 1311.6818181818182,\n",
       "  'Southern California': 1402.72,\n",
       "  'Boston': 1699.5776315789474,\n",
       "  'Inland Empire': 1473.5012048192773,\n",
       "  'New York / Northern NJ': 1063.5295454545453,\n",
       "  'Florida Markets - Other': 1293.6352941176467,\n",
       "  'Other Midwest': 886.64,\n",
       "  'Arizona / Las Vegas': 1709.5724137931034,\n",
       "  'Ohio': 1947.3939393939395,\n",
       "  'Atlanta': 792.133125,\n",
       "  'Texas Markets - Major': 1134.182608695652,\n",
       "  'Connecticut': 1801.8648148148147,\n",
       "  'Miami / Ft. Lauderdale': 1230.0827586206897,\n",
       "  'Tennessee': 1207.3308823529414,\n",
       "  'Other Northeast': 994.5895833333333,\n",
       "  'Baltimore / DC': 1072.9125000000001,\n",
       "  'Other West': 989.3677419354839,\n",
       "  'Chicago': 1074.1299999999999,\n",
       "  'Philadelphia / Southern NJ': 1080.1411764705883},\n",
       " {'Colorado / Utah': -120862.39999999998,\n",
       "  'Other Southeast': -16388.674999999996,\n",
       "  'Southern California': -51995.34,\n",
       "  'Boston': -56738.38,\n",
       "  'Inland Empire': -131429.75499999998,\n",
       "  'New York / Northern NJ': -35528.125,\n",
       "  'Florida Markets - Other': -54872.25999999999,\n",
       "  'Other Midwest': -73258.025,\n",
       "  'Arizona / Las Vegas': -112537.425,\n",
       "  'Ohio': -57890.97499999998,\n",
       "  'Atlanta': -114001.75,\n",
       "  'Texas Markets - Major': -41186.925,\n",
       "  'Connecticut': -64397.200000000004,\n",
       "  'Miami / Ft. Lauderdale': -75629.095,\n",
       "  'Tennessee': -26824.324999999997,\n",
       "  'Other Northeast': -51380.275,\n",
       "  'Baltimore / DC': -38770.350000000006,\n",
       "  'Other West': -34588.100000000006,\n",
       "  'Chicago': -22386.45,\n",
       "  'Philadelphia / Southern NJ': -39275.825000000004},\n",
       " 2.524283086094777,\n",
       " 0.0003569150826421286)"
      ]
     },
     "execution_count": 158,
     "metadata": {},
     "output_type": "execute_result"
    }
   ],
   "source": [
    "Effect_on_Revenue('Region')"
   ]
  },
  {
   "cell_type": "markdown",
   "metadata": {},
   "source": [
    "Other Southeast and  Texas Markets - Major are high profit areas which has less cost, high revenue and lower extra rentals to reach break even.\n"
   ]
  },
  {
   "cell_type": "markdown",
   "metadata": {},
   "source": [
    "Effect of  Source"
   ]
  },
  {
   "cell_type": "code",
   "execution_count": 159,
   "metadata": {},
   "outputs": [
    {
     "data": {
      "text/plain": [
       "({'Sales Center Reservation': 616.0070159099796,\n",
       "  'Store Reservation': 286.2197639168788,\n",
       "  'Web Reservation': 1071.2454824970323},\n",
       " {'Sales Center Reservation': 707513.2749999999,\n",
       "  'Store Reservation': 308977.35,\n",
       "  'Web Reservation': 1206621.38},\n",
       " {'Sales Center Reservation': 82.10668155970832,\n",
       "  'Store Reservation': 88.0026630589584,\n",
       "  'Web Reservation': 90.84636199367387},\n",
       " 75.43023686064241,\n",
       " 2.1774004065099517e-33)"
      ]
     },
     "execution_count": 159,
     "metadata": {},
     "output_type": "execute_result"
    }
   ],
   "source": [
    "Effect_on_Cost('Source')"
   ]
  },
  {
   "cell_type": "code",
   "execution_count": 160,
   "metadata": {},
   "outputs": [
    {
     "data": {
      "text/plain": [
       "({'Sales Center Reservation': 1251.7141025641024,\n",
       "  'Web Reservation': 1434.1713541666666,\n",
       "  'Store Reservation': 1064.7173076923077},\n",
       " {'Sales Center Reservation': -365795.32499999984,\n",
       "  'Web Reservation': -655899.58,\n",
       "  'Store Reservation': -198246.74999999997},\n",
       " 3.2380909829438895,\n",
       " 0.039782167918302525)"
      ]
     },
     "execution_count": 160,
     "metadata": {},
     "output_type": "execute_result"
    }
   ],
   "source": [
    "Effect_on_Revenue('Source')"
   ]
  },
  {
   "cell_type": "markdown",
   "metadata": {},
   "source": [
    "Effect of Concenssion"
   ]
  },
  {
   "cell_type": "code",
   "execution_count": 161,
   "metadata": {},
   "outputs": [],
   "source": [
    "promotion_rented_dataset_Concession = promotion_rented_dataset[promotion_rented_dataset['Concession']!=0]"
   ]
  },
  {
   "cell_type": "code",
   "execution_count": 162,
   "metadata": {},
   "outputs": [
    {
     "data": {
      "text/plain": [
       "(0.1440407840804394, 1.6027338059619432e-84)"
      ]
     },
     "execution_count": 162,
     "metadata": {},
     "output_type": "execute_result"
    }
   ],
   "source": [
    "pearsonr(promotion_rented_dataset_Concession['cost_by_company'], promotion_rented_dataset_Concession['Concession'])"
   ]
  },
  {
   "cell_type": "code",
   "execution_count": 164,
   "metadata": {},
   "outputs": [],
   "source": [
    "Promotion_Rented_Stayed_PostFree_Dataset_Concession = Promotion_Rented_Stayed_PostFree_Dataset[(Promotion_Rented_Stayed_PostFree_Dataset['is_sticky']==0) & Promotion_Rented_Stayed_PostFree_Dataset['Concession']!=0]"
   ]
  },
  {
   "cell_type": "code",
   "execution_count": 165,
   "metadata": {},
   "outputs": [
    {
     "data": {
      "text/plain": [
       "(0.1228739445918724, 0.004242307151000086)"
      ]
     },
     "execution_count": 165,
     "metadata": {},
     "output_type": "execute_result"
    }
   ],
   "source": [
    "pearsonr(Promotion_Rented_Stayed_PostFree_Dataset_Concession['Revenue_per_customer'], Promotion_Rented_Stayed_PostFree_Dataset_Concession['Concession'])"
   ]
  },
  {
   "cell_type": "markdown",
   "metadata": {},
   "source": [
    "The Pearson coefficient is very small here so effect of concession can be excluded"
   ]
  },
  {
   "cell_type": "code",
   "execution_count": null,
   "metadata": {},
   "outputs": [],
   "source": []
  }
 ],
 "metadata": {
  "kernelspec": {
   "display_name": "Python 3",
   "language": "python",
   "name": "python3"
  },
  "language_info": {
   "codemirror_mode": {
    "name": "ipython",
    "version": 3
   },
   "file_extension": ".py",
   "mimetype": "text/x-python",
   "name": "python",
   "nbconvert_exporter": "python",
   "pygments_lexer": "ipython3",
   "version": "3.6.5"
  }
 },
 "nbformat": 4,
 "nbformat_minor": 2
}
